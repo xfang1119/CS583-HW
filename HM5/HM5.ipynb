{
 "cells": [
  {
   "cell_type": "markdown",
   "metadata": {
    "colab_type": "text",
    "id": "GLOktIDAaWiI"
   },
   "source": [
    "# Home 5: Build a seq2seq model for machine translation.\n",
    "\n",
    "### Name: Xing Fang\n",
    "\n",
    "### Task: Translate English to [what-language?]"
   ]
  },
  {
   "cell_type": "markdown",
   "metadata": {
    "colab_type": "text",
    "id": "Av1uwnO3aWiY"
   },
   "source": [
    "## 0. You will do the following:\n",
    "\n",
    "1. Read and run my code.\n",
    "2. Complete the code in Section 1.1 and Section 4.2.\n",
    "\n",
    "    * Translation **English** to **German** is not acceptable!!! Try another pair of languages.\n",
    "    \n",
    "3. **Make improvements.** Directly modify the code in Section 3. Do at least one of the two. By doing both correctly, you will get up to 1 bonus score to the total.\n",
    "\n",
    "    * Bi-LSTM instead of LSTM.\n",
    "        \n",
    "    * Attention. (You are allowed to use existing code.)\n",
    "    \n",
    "4. Evaluate the translation using the BLEU score. \n",
    "\n",
    "    * Optional. Up to 1 bonus scores to the total.\n",
    "    \n",
    "5. Convert the notebook to .HTML file. \n",
    "\n",
    "    * The HTML file must contain the code and the output after execution.\n",
    "\n",
    "6. Put the .HTML file in your Google Drive, Dropbox, or Github repo.  (If you submit the file to Google Drive or Dropbox, you must make the file \"open-access\". The delay caused by \"deny of access\" may result in late penalty.)\n",
    "\n",
    "7. Submit the link to the HTML file to Canvas.    \n"
   ]
  },
  {
   "cell_type": "markdown",
   "metadata": {
    "colab_type": "text",
    "id": "z1WvsVlWaWib"
   },
   "source": [
    "### Hint: \n",
    "\n",
    "To implement ```Bi-LSTM```, you will need the following code to build the encoder. Do NOT use Bi-LSTM for the decoder."
   ]
  },
  {
   "cell_type": "code",
   "execution_count": 0,
   "metadata": {
    "colab": {},
    "colab_type": "code",
    "id": "62RYAGWEaWie"
   },
   "outputs": [],
   "source": [
    "from keras.layers import Bidirectional, Concatenate\n",
    "\n",
    "encoder_bilstm = Bidirectional(LSTM(latent_dim, return_state=True, \n",
    "                                  dropout=0.5, name='encoder_lstm'))\n",
    "_, forward_h, forward_c, backward_h, backward_c = encoder_bilstm(encoder_inputs)\n",
    "\n",
    "state_h = Concatenate()([forward_h, backward_h])\n",
    "state_c = Concatenate()([forward_c, backward_c])"
   ]
  },
  {
   "cell_type": "markdown",
   "metadata": {
    "colab_type": "text",
    "id": "rLoyzayVaWi4"
   },
   "source": [
    "## 1. Data preparation\n",
    "\n",
    "1. Download data (e.g., \"deu-eng.zip\") from http://www.manythings.org/anki/\n",
    "2. Unzip the .ZIP file.\n",
    "3. Put the .TXT file (e.g., \"deu.txt\") in the directory \"./Data/\"."
   ]
  },
  {
   "cell_type": "markdown",
   "metadata": {
    "colab_type": "text",
    "id": "q6CWIAfUaWi7"
   },
   "source": [
    "### 1.1. Load and clean text\n"
   ]
  },
  {
   "cell_type": "code",
   "execution_count": 0,
   "metadata": {
    "colab": {},
    "colab_type": "code",
    "id": "NlY2CFJ5pHag"
   },
   "outputs": [],
   "source": [
    "import re\n",
    "import string\n",
    "from unicodedata import normalize\n",
    "import numpy"
   ]
  },
  {
   "cell_type": "code",
   "execution_count": 0,
   "metadata": {
    "colab": {},
    "colab_type": "code",
    "id": "hCSFSt6CaWi-"
   },
   "outputs": [],
   "source": [
    "\n",
    "# load doc into memory\n",
    "def load_doc(filename):\n",
    "    # open the file as read only\n",
    "    file = open(filename, mode='rt', encoding='utf-8')\n",
    "    # read all text\n",
    "    text = file.read()\n",
    "    # close the file\n",
    "    file.close()\n",
    "    return text\n",
    "\n",
    "\n",
    "# split a loaded document into sentences\n",
    "def to_pairs(doc):\n",
    "    lines = doc.strip().split('\\n')\n",
    "    pairs = [line.split('\\t') for line in  lines]\n",
    "    return pairs\n",
    "\n",
    "def clean_data(lines):\n",
    "    cleaned = list()\n",
    "    # prepare regex for char filtering\n",
    "    re_print = re.compile('[^%s]' % re.escape(string.printable))\n",
    "    # prepare translation table for removing punctuation\n",
    "    table = str.maketrans('', '', string.punctuation)\n",
    "    for pair in lines:\n",
    "        clean_pair = list()\n",
    "        for line in pair:\n",
    "            # normalize unicode characters\n",
    "            line = normalize('NFD', line).encode('ascii', 'ignore')\n",
    "            line = line.decode('UTF-8')\n",
    "            # tokenize on white space\n",
    "            line = line.split()\n",
    "            # convert to lowercase\n",
    "            line = [word.lower() for word in line]\n",
    "            # remove punctuation from each token\n",
    "            line = [word.translate(table) for word in line]\n",
    "            # remove non-printable chars form each token\n",
    "            line = [re_print.sub('', w) for w in line]\n",
    "            # remove tokens with numbers in them\n",
    "            line = [word for word in line if word.isalpha()]\n",
    "            # store as string\n",
    "            clean_pair.append(' '.join(line))\n",
    "        cleaned.append(clean_pair)\n",
    "    return numpy.array(cleaned)"
   ]
  },
  {
   "cell_type": "code",
   "execution_count": 0,
   "metadata": {
    "colab": {},
    "colab_type": "code",
    "id": "skYW9Rvfq65b"
   },
   "outputs": [],
   "source": []
  },
  {
   "cell_type": "markdown",
   "metadata": {
    "colab_type": "text",
    "id": "_OfoqGt5aWjR"
   },
   "source": [
    "#### Fill the following blanks:"
   ]
  },
  {
   "cell_type": "code",
   "execution_count": 0,
   "metadata": {
    "colab": {},
    "colab_type": "code",
    "id": "Sp7FocG7aWjV"
   },
   "outputs": [],
   "source": [
    "\n",
    "# e.g., filename = 'Data/deu.txt'\n",
    "filename = '/content/drive/My Drive/Colab Notebooks/spa.txt'\n",
    "\n",
    "# e.g., n_train = 20000\n",
    "n_train = 20000"
   ]
  },
  {
   "cell_type": "code",
   "execution_count": 7,
   "metadata": {
    "colab": {
     "base_uri": "https://localhost:8080/",
     "height": 122
    },
    "colab_type": "code",
    "id": "i-_FZA-VasGC",
    "outputId": "67110e89-8dfe-4bcd-8108-021587311c72"
   },
   "outputs": [
    {
     "name": "stdout",
     "output_type": "stream",
     "text": [
      "Go to this URL in a browser: https://accounts.google.com/o/oauth2/auth?client_id=947318989803-6bn6qk8qdgf4n4g3pfee6491hc0brc4i.apps.googleusercontent.com&redirect_uri=urn%3aietf%3awg%3aoauth%3a2.0%3aoob&response_type=code&scope=email%20https%3a%2f%2fwww.googleapis.com%2fauth%2fdocs.test%20https%3a%2f%2fwww.googleapis.com%2fauth%2fdrive%20https%3a%2f%2fwww.googleapis.com%2fauth%2fdrive.photos.readonly%20https%3a%2f%2fwww.googleapis.com%2fauth%2fpeopleapi.readonly\n",
      "\n",
      "Enter your authorization code:\n",
      "··········\n",
      "Mounted at /content/drive\n"
     ]
    }
   ],
   "source": [
    "from google.colab import drive\n",
    "drive.mount('/content/drive')"
   ]
  },
  {
   "cell_type": "code",
   "execution_count": 0,
   "metadata": {
    "colab": {},
    "colab_type": "code",
    "id": "Qu7EmakNaWjo"
   },
   "outputs": [],
   "source": [
    "# load dataset\n",
    "doc = load_doc(filename)\n",
    "\n",
    "# split into Language1-Language2 pairs\n",
    "pairs = to_pairs(doc)\n",
    "\n",
    "# clean sentences\n",
    "clean_pairs = clean_data(pairs)[0:n_train, :]"
   ]
  },
  {
   "cell_type": "code",
   "execution_count": 0,
   "metadata": {
    "colab": {
     "base_uri": "https://localhost:8080/",
     "height": 187
    },
    "colab_type": "code",
    "id": "6GIbiOV6aWj8",
    "outputId": "53e18e1e-b852-4371-8d8e-3a077ded2b0d",
    "scrolled": true
   },
   "outputs": [
    {
     "name": "stdout",
     "output_type": "stream",
     "text": [
      "[i hate liars] => [detesto a los mentirosos]\n",
      "[i hate opera] => [odio la ópera]\n",
      "[i hate rules] => [odio las reglas]\n",
      "[i hate sushi] => [odio el sushi]\n",
      "[i have a car] => [tengo un coche]\n",
      "[i have a car] => [tengo un carro]\n",
      "[i have a cat] => [tengo un gato]\n",
      "[i have a dog] => [tengo un perro]\n",
      "[i have a key] => [tengo una llave]\n",
      "[i have a pen] => [tengo una pluma]\n"
     ]
    }
   ],
   "source": [
    "for i in range(3000, 3010):\n",
    "    print('[' + clean_pairs[i, 0] + '] => [' + clean_pairs[i, 1] + ']')"
   ]
  },
  {
   "cell_type": "code",
   "execution_count": 0,
   "metadata": {
    "colab": {
     "base_uri": "https://localhost:8080/",
     "height": 51
    },
    "colab_type": "code",
    "id": "xPD96a-BaWkR",
    "outputId": "206522cb-b719-495e-e685-faa31ea68b00"
   },
   "outputs": [
    {
     "name": "stdout",
     "output_type": "stream",
     "text": [
      "Length of input_texts:  (20000,)\n",
      "Length of target_texts: (20000,)\n"
     ]
    }
   ],
   "source": [
    "input_texts = clean_pairs[:, 0]\n",
    "target_texts = ['\\t' + text + '\\n' for text in clean_pairs[:, 1]]\n",
    "\n",
    "print('Length of input_texts:  ' + str(input_texts.shape))\n",
    "print('Length of target_texts: ' + str(input_texts.shape))"
   ]
  },
  {
   "cell_type": "code",
   "execution_count": 0,
   "metadata": {
    "colab": {
     "base_uri": "https://localhost:8080/",
     "height": 51
    },
    "colab_type": "code",
    "id": "ndqADdZiaWkp",
    "outputId": "7a750fd9-ed0d-4d19-ad7d-4e21faa69238"
   },
   "outputs": [
    {
     "name": "stdout",
     "output_type": "stream",
     "text": [
      "max length of input  sentences: 19\n",
      "max length of target sentences: 68\n"
     ]
    }
   ],
   "source": [
    "max_encoder_seq_length = max(len(line) for line in input_texts)\n",
    "max_decoder_seq_length = max(len(line) for line in target_texts)\n",
    "\n",
    "print('max length of input  sentences: %d' % (max_encoder_seq_length))\n",
    "print('max length of target sentences: %d' % (max_decoder_seq_length))"
   ]
  },
  {
   "cell_type": "markdown",
   "metadata": {
    "colab_type": "text",
    "id": "LC5AXKgFaWk8"
   },
   "source": [
    "**Remark:** To this end, you have two lists of sentences: input_texts and target_texts"
   ]
  },
  {
   "cell_type": "markdown",
   "metadata": {
    "colab_type": "text",
    "id": "U6E0tst0aWk_"
   },
   "source": [
    "## 2. Text processing\n",
    "\n",
    "### 2.1. Convert texts to sequences\n",
    "\n",
    "- Input: A list of $n$ sentences (with max length $t$).\n",
    "- It is represented by a $n\\times t$ matrix after the tokenization and zero-padding."
   ]
  },
  {
   "cell_type": "code",
   "execution_count": 0,
   "metadata": {
    "colab": {
     "base_uri": "https://localhost:8080/",
     "height": 34
    },
    "colab_type": "code",
    "id": "1lXuUjaD4iF4",
    "outputId": "5db45f92-e84b-4415-b39e-3b8301688d0f"
   },
   "outputs": [
    {
     "name": "stderr",
     "output_type": "stream",
     "text": [
      "Using TensorFlow backend.\n"
     ]
    }
   ],
   "source": [
    "from keras.preprocessing.text import Tokenizer\n",
    "from keras.preprocessing.sequence import pad_sequences"
   ]
  },
  {
   "cell_type": "code",
   "execution_count": 0,
   "metadata": {
    "colab": {
     "base_uri": "https://localhost:8080/",
     "height": 85
    },
    "colab_type": "code",
    "id": "_5Q5tw3KaWlB",
    "outputId": "e8077fb4-1c7a-49fe-d746-d4691c12c179"
   },
   "outputs": [
    {
     "name": "stdout",
     "output_type": "stream",
     "text": [
      "shape of encoder_input_seq: (20000, 19)\n",
      "shape of input_token_index: 38\n",
      "shape of decoder_input_seq: (20000, 68)\n",
      "shape of target_token_index: 50\n"
     ]
    }
   ],
   "source": [
    "\n",
    "\n",
    "# encode and pad sequences\n",
    "def text2sequences(max_len, lines):\n",
    "    tokenizer = Tokenizer(char_level=True, filters='')\n",
    "    tokenizer.fit_on_texts(lines)\n",
    "    seqs = tokenizer.texts_to_sequences(lines)\n",
    "    seqs_pad = pad_sequences(seqs, maxlen=max_len, padding='post')\n",
    "    return seqs_pad, tokenizer.word_index\n",
    "\n",
    "\n",
    "encoder_input_seq, input_token_index = text2sequences(max_encoder_seq_length, \n",
    "                                                      input_texts)\n",
    "decoder_input_seq, target_token_index = text2sequences(max_decoder_seq_length, \n",
    "                                                       target_texts)\n",
    "\n",
    "print('shape of encoder_input_seq: ' + str(encoder_input_seq.shape))\n",
    "print('shape of input_token_index: ' + str(len(input_token_index)))\n",
    "print('shape of decoder_input_seq: ' + str(decoder_input_seq.shape))\n",
    "print('shape of target_token_index: ' + str(len(target_token_index)))"
   ]
  },
  {
   "cell_type": "code",
   "execution_count": 0,
   "metadata": {
    "colab": {
     "base_uri": "https://localhost:8080/",
     "height": 51
    },
    "colab_type": "code",
    "id": "BFIIdd0IaWlS",
    "outputId": "b9c613bd-352e-46ab-8a16-62647ed9ea90"
   },
   "outputs": [
    {
     "name": "stdout",
     "output_type": "stream",
     "text": [
      "num_encoder_tokens: 39\n",
      "num_decoder_tokens: 51\n"
     ]
    }
   ],
   "source": [
    "num_encoder_tokens = len(input_token_index) + 1\n",
    "num_decoder_tokens = len(target_token_index) + 1\n",
    "\n",
    "print('num_encoder_tokens: ' + str(num_encoder_tokens))\n",
    "print('num_decoder_tokens: ' + str(num_decoder_tokens))"
   ]
  },
  {
   "cell_type": "markdown",
   "metadata": {
    "colab_type": "text",
    "id": "XXbOEd0faWlo"
   },
   "source": [
    "**Remark:** To this end, the input language and target language texts are converted to 2 matrices. \n",
    "\n",
    "- Their number of rows are both n_train.\n",
    "- Their number of columns are respective max_encoder_seq_length and max_decoder_seq_length."
   ]
  },
  {
   "cell_type": "markdown",
   "metadata": {
    "colab_type": "text",
    "id": "rfbSFlFsaWlu"
   },
   "source": [
    "The followings print a sentence and its representation as a sequence."
   ]
  },
  {
   "cell_type": "code",
   "execution_count": 0,
   "metadata": {
    "colab": {
     "base_uri": "https://localhost:8080/",
     "height": 34
    },
    "colab_type": "code",
    "id": "1MMGLD6maWlx",
    "outputId": "286878db-3f15-4a08-9fb8-67965942623b"
   },
   "outputs": [
    {
     "data": {
      "text/plain": [
       "'\\tgracias\\n'"
      ]
     },
     "execution_count": 99,
     "metadata": {
      "tags": []
     },
     "output_type": "execute_result"
    }
   ],
   "source": [
    "target_texts[100]"
   ]
  },
  {
   "cell_type": "code",
   "execution_count": 0,
   "metadata": {
    "colab": {
     "base_uri": "https://localhost:8080/",
     "height": 102
    },
    "colab_type": "code",
    "id": "t_aD1fp6aWmH",
    "outputId": "76d41e01-5b4e-4c50-dfb1-b2ea332b13d6"
   },
   "outputs": [
    {
     "data": {
      "text/plain": [
       "array([ 6, 20, 10,  4, 16, 12,  4,  5,  7,  0,  0,  0,  0,  0,  0,  0,  0,\n",
       "        0,  0,  0,  0,  0,  0,  0,  0,  0,  0,  0,  0,  0,  0,  0,  0,  0,\n",
       "        0,  0,  0,  0,  0,  0,  0,  0,  0,  0,  0,  0,  0,  0,  0,  0,  0,\n",
       "        0,  0,  0,  0,  0,  0,  0,  0,  0,  0,  0,  0,  0,  0,  0,  0,  0],\n",
       "      dtype=int32)"
      ]
     },
     "execution_count": 100,
     "metadata": {
      "tags": []
     },
     "output_type": "execute_result"
    }
   ],
   "source": [
    "decoder_input_seq[100, :]"
   ]
  },
  {
   "cell_type": "markdown",
   "metadata": {
    "colab_type": "text",
    "id": "gySDf09NaWmc"
   },
   "source": [
    "## 2.2. One-hot encode\n",
    "\n",
    "- Input: A list of $n$ sentences (with max length $t$).\n",
    "- It is represented by a $n\\times t$ matrix after the tokenization and zero-padding.\n",
    "- It is represented by a $n\\times t \\times v$ tensor ($t$ is the number of unique chars) after the one-hot encoding."
   ]
  },
  {
   "cell_type": "code",
   "execution_count": 0,
   "metadata": {
    "colab": {
     "base_uri": "https://localhost:8080/",
     "height": 51
    },
    "colab_type": "code",
    "id": "OxYPlenWaWmf",
    "outputId": "340b5eb0-60fb-476e-de1e-1e2393fb7cb7"
   },
   "outputs": [
    {
     "name": "stdout",
     "output_type": "stream",
     "text": [
      "(20000, 19, 39)\n",
      "(20000, 68, 51)\n"
     ]
    }
   ],
   "source": [
    "from keras.utils import to_categorical\n",
    "\n",
    "# one hot encode target sequence\n",
    "def onehot_encode(sequences, max_len, vocab_size):\n",
    "    n = len(sequences)\n",
    "    data = numpy.zeros((n, max_len, vocab_size))\n",
    "    for i in range(n):\n",
    "        data[i, :, :] = to_categorical(sequences[i], num_classes=vocab_size)\n",
    "    return data\n",
    "\n",
    "encoder_input_data = onehot_encode(encoder_input_seq, max_encoder_seq_length, num_encoder_tokens)\n",
    "decoder_input_data = onehot_encode(decoder_input_seq, max_decoder_seq_length, num_decoder_tokens)\n",
    "\n",
    "decoder_target_seq = numpy.zeros(decoder_input_seq.shape)\n",
    "decoder_target_seq[:, 0:-1] = decoder_input_seq[:, 1:]\n",
    "decoder_target_data = onehot_encode(decoder_target_seq, \n",
    "                                    max_decoder_seq_length, \n",
    "                                    num_decoder_tokens)\n",
    "\n",
    "print(encoder_input_data.shape)\n",
    "print(decoder_input_data.shape)"
   ]
  },
  {
   "cell_type": "markdown",
   "metadata": {
    "colab_type": "text",
    "id": "c6GK-PNnaWm3"
   },
   "source": [
    "## 3. Build the networks (for training)\n",
    "\n",
    "- Build encoder, decoder, and connect the two modules to get \"model\". \n",
    "\n",
    "- Fit the model on the bilingual data to train the parameters in the encoder and decoder."
   ]
  },
  {
   "cell_type": "markdown",
   "metadata": {
    "colab_type": "text",
    "id": "S6ye_DTcaWm7"
   },
   "source": [
    "### 3.1. Encoder network\n",
    "\n",
    "- Input:  one-hot encode of the input language\n",
    "\n",
    "- Return: \n",
    "\n",
    "    -- output (all the hidden states   $h_1, \\cdots , h_t$) are always discarded\n",
    "    \n",
    "    -- the final hidden state  $h_t$\n",
    "    \n",
    "    -- the final conveyor belt $c_t$"
   ]
  },
  {
   "cell_type": "code",
   "execution_count": 0,
   "metadata": {
    "colab": {},
    "colab_type": "code",
    "id": "nKa5El0kaWnA"
   },
   "outputs": [],
   "source": [
    "from keras.layers import Input, LSTM\n",
    "from keras.models import Model\n",
    "\n",
    "latent_dim = 256\n",
    "\n",
    "# inputs of the encoder network\n",
    "encoder_inputs = Input(shape=(None, num_encoder_tokens), \n",
    "                       name='encoder_inputs')\n",
    "\n",
    "# set the LSTM layer\n",
    "encoder_lstm = LSTM(latent_dim, return_state=True, \n",
    "                    dropout=0.5, name='encoder_lstm')\n",
    "_, state_h, state_c = encoder_lstm(encoder_inputs)\n",
    "\n",
    "# build the encoder network model\n",
    "encoder_model = Model(inputs=encoder_inputs, \n",
    "                      outputs=[state_h, state_c],\n",
    "                      name='encoder')"
   ]
  },
  {
   "cell_type": "markdown",
   "metadata": {
    "colab_type": "text",
    "id": "PH8nh9FRaWnZ"
   },
   "source": [
    "Print a summary and save the encoder network structure to \"./encoder.pdf\""
   ]
  },
  {
   "cell_type": "code",
   "execution_count": 0,
   "metadata": {
    "colab": {
     "base_uri": "https://localhost:8080/",
     "height": 221
    },
    "colab_type": "code",
    "id": "fk3PyPHNaWnc",
    "outputId": "69de1ef4-7d5c-4249-de72-dfd1bd84de1a"
   },
   "outputs": [
    {
     "name": "stdout",
     "output_type": "stream",
     "text": [
      "Model: \"encoder\"\n",
      "_________________________________________________________________\n",
      "Layer (type)                 Output Shape              Param #   \n",
      "=================================================================\n",
      "encoder_inputs (InputLayer)  (None, None, 39)          0         \n",
      "_________________________________________________________________\n",
      "encoder_lstm (LSTM)          [(None, 256), (None, 256) 303104    \n",
      "=================================================================\n",
      "Total params: 303,104\n",
      "Trainable params: 303,104\n",
      "Non-trainable params: 0\n",
      "_________________________________________________________________\n"
     ]
    }
   ],
   "source": [
    "from IPython.display import SVG\n",
    "from keras.utils.vis_utils import model_to_dot, plot_model\n",
    "\n",
    "SVG(model_to_dot(encoder_model, show_shapes=False).create(prog='dot', format='svg'))\n",
    "\n",
    "plot_model(\n",
    "    model=encoder_model, show_shapes=False,\n",
    "    to_file='encoder.pdf'\n",
    ")\n",
    "\n",
    "encoder_model.summary()"
   ]
  },
  {
   "cell_type": "markdown",
   "metadata": {
    "colab_type": "text",
    "id": "nKByh6X_aWn2"
   },
   "source": [
    "### 3.2. Decoder network\n",
    "\n",
    "- Inputs:  \n",
    "\n",
    "    -- one-hot encode of the target language\n",
    "    \n",
    "    -- The initial hidden state $h_t$ \n",
    "    \n",
    "    -- The initial conveyor belt $c_t$ \n",
    "\n",
    "- Return: \n",
    "\n",
    "    -- output (all the hidden states) $h_1, \\cdots , h_t$\n",
    "\n",
    "    -- the final hidden state  $h_t$ (discarded in the training and used in the prediction)\n",
    "    \n",
    "    -- the final conveyor belt $c_t$ (discarded in the training and used in the prediction)"
   ]
  },
  {
   "cell_type": "code",
   "execution_count": 0,
   "metadata": {
    "colab": {},
    "colab_type": "code",
    "id": "g9QXNO1LaWn8"
   },
   "outputs": [],
   "source": [
    "from keras.layers import Input, LSTM, Dense\n",
    "from keras.models import Model\n",
    "\n",
    "# inputs of the decoder network\n",
    "decoder_input_h = Input(shape=(latent_dim,), name='decoder_input_h')\n",
    "decoder_input_c = Input(shape=(latent_dim,), name='decoder_input_c')\n",
    "decoder_input_x = Input(shape=(None, num_decoder_tokens), name='decoder_input_x')\n",
    "\n",
    "# set the LSTM layer\n",
    "decoder_lstm = LSTM(latent_dim, return_sequences=True, \n",
    "                    return_state=True, dropout=0.5, name='decoder_lstm')\n",
    "decoder_lstm_outputs, state_h, state_c = decoder_lstm(decoder_input_x, \n",
    "                                                      initial_state=[decoder_input_h, decoder_input_c])\n",
    "\n",
    "# set the dense layer\n",
    "decoder_dense = Dense(num_decoder_tokens, activation='softmax', name='decoder_dense')\n",
    "decoder_outputs = decoder_dense(decoder_lstm_outputs)\n",
    "\n",
    "# build the decoder network model\n",
    "decoder_model = Model(inputs=[decoder_input_x, decoder_input_h, decoder_input_c],\n",
    "                      outputs=[decoder_outputs, state_h, state_c],\n",
    "                      name='decoder')"
   ]
  },
  {
   "cell_type": "markdown",
   "metadata": {
    "colab_type": "text",
    "id": "bAXXyWrHaWoU"
   },
   "source": [
    "Print a summary and save the encoder network structure to \"./decoder.pdf\""
   ]
  },
  {
   "cell_type": "code",
   "execution_count": 0,
   "metadata": {
    "colab": {
     "base_uri": "https://localhost:8080/",
     "height": 357
    },
    "colab_type": "code",
    "id": "jHQrI2wGaWoZ",
    "outputId": "69b1752c-7f88-4d92-fffb-a0f90c768c05"
   },
   "outputs": [
    {
     "name": "stdout",
     "output_type": "stream",
     "text": [
      "Model: \"decoder\"\n",
      "__________________________________________________________________________________________________\n",
      "Layer (type)                    Output Shape         Param #     Connected to                     \n",
      "==================================================================================================\n",
      "decoder_input_x (InputLayer)    (None, None, 51)     0                                            \n",
      "__________________________________________________________________________________________________\n",
      "decoder_input_h (InputLayer)    (None, 256)          0                                            \n",
      "__________________________________________________________________________________________________\n",
      "decoder_input_c (InputLayer)    (None, 256)          0                                            \n",
      "__________________________________________________________________________________________________\n",
      "decoder_lstm (LSTM)             [(None, None, 256),  315392      decoder_input_x[0][0]            \n",
      "                                                                 decoder_input_h[0][0]            \n",
      "                                                                 decoder_input_c[0][0]            \n",
      "__________________________________________________________________________________________________\n",
      "decoder_dense (Dense)           (None, None, 51)     13107       decoder_lstm[0][0]               \n",
      "==================================================================================================\n",
      "Total params: 328,499\n",
      "Trainable params: 328,499\n",
      "Non-trainable params: 0\n",
      "__________________________________________________________________________________________________\n"
     ]
    }
   ],
   "source": [
    "from IPython.display import SVG\n",
    "from keras.utils.vis_utils import model_to_dot, plot_model\n",
    "\n",
    "SVG(model_to_dot(decoder_model, show_shapes=False).create(prog='dot', format='svg'))\n",
    "\n",
    "plot_model(\n",
    "    model=decoder_model, show_shapes=False,\n",
    "    to_file='decoder.pdf'\n",
    ")\n",
    "\n",
    "decoder_model.summary()"
   ]
  },
  {
   "cell_type": "markdown",
   "metadata": {
    "colab_type": "text",
    "id": "e6djkAd0aWoz"
   },
   "source": [
    "### 3.3. Connect the encoder and decoder"
   ]
  },
  {
   "cell_type": "code",
   "execution_count": 0,
   "metadata": {
    "colab": {},
    "colab_type": "code",
    "id": "qHdb8WicaWo3"
   },
   "outputs": [],
   "source": [
    "# input layers\n",
    "encoder_input_x = Input(shape=(None, num_encoder_tokens), name='encoder_input_x')\n",
    "decoder_input_x = Input(shape=(None, num_decoder_tokens), name='decoder_input_x')\n",
    "\n",
    "# connect encoder to decoder\n",
    "encoder_final_states = encoder_model([encoder_input_x])\n",
    "decoder_lstm_output, _, _ = decoder_lstm(decoder_input_x, initial_state=encoder_final_states)\n",
    "decoder_pred = decoder_dense(decoder_lstm_output)\n",
    "\n",
    "model = Model(inputs=[encoder_input_x, decoder_input_x], \n",
    "              outputs=decoder_pred, \n",
    "              name='model_training')"
   ]
  },
  {
   "cell_type": "code",
   "execution_count": 0,
   "metadata": {
    "colab": {
     "base_uri": "https://localhost:8080/",
     "height": 51
    },
    "colab_type": "code",
    "id": "r6RdtFhyaWpN",
    "outputId": "fdc48729-28b7-4f5e-88b0-80d79ff9b83a"
   },
   "outputs": [
    {
     "name": "stdout",
     "output_type": "stream",
     "text": [
      "Tensor(\"decoder_lstm_8/while:4\", shape=(None, 256), dtype=float32)\n",
      "Tensor(\"decoder_input_h_5:0\", shape=(None, 256), dtype=float32)\n"
     ]
    }
   ],
   "source": [
    "print(state_h)\n",
    "print(decoder_input_h)"
   ]
  },
  {
   "cell_type": "code",
   "execution_count": 0,
   "metadata": {
    "colab": {
     "base_uri": "https://localhost:8080/",
     "height": 357
    },
    "colab_type": "code",
    "id": "6eHGyBjFaWph",
    "outputId": "3e12bdb2-a5a5-4efe-ffb9-09efcda6649c"
   },
   "outputs": [
    {
     "name": "stdout",
     "output_type": "stream",
     "text": [
      "Model: \"model_training\"\n",
      "__________________________________________________________________________________________________\n",
      "Layer (type)                    Output Shape         Param #     Connected to                     \n",
      "==================================================================================================\n",
      "encoder_input_x (InputLayer)    (None, None, 39)     0                                            \n",
      "__________________________________________________________________________________________________\n",
      "decoder_input_x (InputLayer)    (None, None, 51)     0                                            \n",
      "__________________________________________________________________________________________________\n",
      "encoder (Model)                 [(None, 256), (None, 303104      encoder_input_x[0][0]            \n",
      "__________________________________________________________________________________________________\n",
      "decoder_lstm (LSTM)             [(None, None, 256),  315392      decoder_input_x[0][0]            \n",
      "                                                                 encoder[1][0]                    \n",
      "                                                                 encoder[1][1]                    \n",
      "__________________________________________________________________________________________________\n",
      "decoder_dense (Dense)           (None, None, 51)     13107       decoder_lstm[1][0]               \n",
      "==================================================================================================\n",
      "Total params: 631,603\n",
      "Trainable params: 631,603\n",
      "Non-trainable params: 0\n",
      "__________________________________________________________________________________________________\n"
     ]
    }
   ],
   "source": [
    "from IPython.display import SVG\n",
    "from keras.utils.vis_utils import model_to_dot, plot_model\n",
    "\n",
    "SVG(model_to_dot(model, show_shapes=False).create(prog='dot', format='svg'))\n",
    "\n",
    "plot_model(\n",
    "    model=model, show_shapes=False,\n",
    "    to_file='model_training.pdf'\n",
    ")\n",
    "\n",
    "model.summary()"
   ]
  },
  {
   "cell_type": "markdown",
   "metadata": {
    "colab_type": "text",
    "id": "l_HqOdVyaWpy"
   },
   "source": [
    "### 3.5. Fit the model on the bilingual dataset\n",
    "\n",
    "- encoder_input_data: one-hot encode of the input language\n",
    "\n",
    "- decoder_input_data: one-hot encode of the input language\n",
    "\n",
    "- decoder_target_data: labels (left shift of decoder_input_data)\n",
    "\n",
    "- tune the hyper-parameters\n",
    "\n",
    "- stop when the validation loss stop decreasing."
   ]
  },
  {
   "cell_type": "code",
   "execution_count": 0,
   "metadata": {
    "colab": {
     "base_uri": "https://localhost:8080/",
     "height": 68
    },
    "colab_type": "code",
    "id": "_1mQ4lKOaWp1",
    "outputId": "b3be3394-be5d-4d95-9f89-174768f9133c"
   },
   "outputs": [
    {
     "name": "stdout",
     "output_type": "stream",
     "text": [
      "shape of encoder_input_data(20000, 19, 39)\n",
      "shape of decoder_input_data(20000, 68, 51)\n",
      "shape of decoder_target_data(20000, 68, 51)\n"
     ]
    }
   ],
   "source": [
    "print('shape of encoder_input_data' + str(encoder_input_data.shape))\n",
    "print('shape of decoder_input_data' + str(decoder_input_data.shape))\n",
    "print('shape of decoder_target_data' + str(decoder_target_data.shape))"
   ]
  },
  {
   "cell_type": "code",
   "execution_count": 0,
   "metadata": {
    "colab": {},
    "colab_type": "code",
    "id": "ySHfJQ4uxFCN"
   },
   "outputs": [],
   "source": [
    "model.compile(optimizer='rmsprop', loss='categorical_crossentropy')\n",
    "\n",
    "model.fit([encoder_input_data, decoder_input_data],  # training data\n",
    "          decoder_target_data,                       # labels (left shift of the target sequences)\n",
    "          batch_size=64, epochs=10, validation_split=0.2)\n",
    "\n",
    "model.save('seq2seq.h5')"
   ]
  },
  {
   "cell_type": "markdown",
   "metadata": {
    "colab_type": "text",
    "id": "tt5TOO54CF-0"
   },
   "source": [
    "## 4.Bi-LSTM + LSTM\n",
    "\n",
    "\n"
   ]
  },
  {
   "cell_type": "markdown",
   "metadata": {
    "colab_type": "text",
    "id": "KWFI7ZsXC2jm"
   },
   "source": [
    "### 4.1 Encoder Bi-LSTM"
   ]
  },
  {
   "cell_type": "code",
   "execution_count": 0,
   "metadata": {
    "colab": {},
    "colab_type": "code",
    "id": "FMqbmwoXCbYQ"
   },
   "outputs": [],
   "source": [
    "from keras.layers import Bidirectional, Concatenate\n",
    "from keras.layers import Input, LSTM, Dense\n",
    "\n",
    "latent_dim = 256\n",
    "\n",
    "encoder_inputs = Input(shape=(None, num_encoder_tokens), \n",
    "                       name='encoder_inputs')\n",
    "\n",
    "encoder_bilstm = Bidirectional(LSTM(latent_dim, return_state=True, \n",
    "                                  dropout=0.5, name='encoder_lstm'))\n",
    "_, forward_h, forward_c, backward_h, backward_c = encoder_bilstm(encoder_inputs)\n",
    "\n",
    "state_h = Concatenate()([forward_h, backward_h])\n",
    "state_c = Concatenate()([forward_c, backward_c])\n",
    "\n",
    "encoder_model = Model(inputs=encoder_inputs, \n",
    "                      outputs=[state_h, state_c],\n",
    "                      name='encoder')"
   ]
  },
  {
   "cell_type": "markdown",
   "metadata": {
    "colab_type": "text",
    "id": "b952KDQfFbTp"
   },
   "source": [
    "## 4.2. Decoder LSTM"
   ]
  },
  {
   "cell_type": "code",
   "execution_count": 0,
   "metadata": {
    "colab": {},
    "colab_type": "code",
    "id": "5PkqA0v5PO1f"
   },
   "outputs": [],
   "source": [
    "decoder_input_h = Input(shape=(512,), name='decoder_input_h')\n",
    "decoder_input_c = Input(shape=(512,), name='decoder_input_c')\n",
    "decoder_input_x = Input(shape=(None, num_decoder_tokens), name='decoder_input_x')\n",
    "\n",
    "# set the LSTM layer\n",
    "decoder_lstm = LSTM(512, return_sequences=True, \n",
    "                    return_state=True, dropout=0.5, name='decoder_lstm')\n",
    "decoder_lstm_outputs, state_h, state_c = decoder_lstm(decoder_input_x, \n",
    "                                                      initial_state=[decoder_input_h, decoder_input_c])\n",
    "\n",
    "# set the dense layer\n",
    "decoder_dense = Dense(num_decoder_tokens, activation='softmax', name='decoder_dense')\n",
    "decoder_outputs = decoder_dense(decoder_lstm_outputs)\n",
    "\n",
    "# build the decoder network model\n",
    "decoder_model = Model(inputs=[decoder_input_x, decoder_input_h, decoder_input_c],\n",
    "                      outputs=[decoder_outputs, state_h, state_c],\n",
    "                      name='decoder')"
   ]
  },
  {
   "cell_type": "markdown",
   "metadata": {
    "colab_type": "text",
    "id": "5rudWBgXqldM"
   },
   "source": [
    "### 4.3. Build model"
   ]
  },
  {
   "cell_type": "code",
   "execution_count": 0,
   "metadata": {
    "colab": {},
    "colab_type": "code",
    "id": "neyeg0zqTxsv"
   },
   "outputs": [],
   "source": [
    "encoder_input_x = Input(shape=(None, num_encoder_tokens), name='encoder_input_x')\n",
    "decoder_input_x = Input(shape=(None, num_decoder_tokens), name='decoder_input_x')\n",
    "\n",
    "# connect encoder to decoder\n",
    "encoder_final_states = encoder_model([encoder_input_x])\n",
    "decoder_lstm_output, _, _ = decoder_lstm(decoder_input_x, initial_state=encoder_final_states)\n",
    "decoder_pred = decoder_dense(decoder_lstm_output)\n",
    "\n",
    "model = Model(inputs=[encoder_input_x, decoder_input_x], \n",
    "              outputs=decoder_pred, \n",
    "              name='model_training')"
   ]
  },
  {
   "cell_type": "code",
   "execution_count": 0,
   "metadata": {
    "colab": {
     "base_uri": "https://localhost:8080/",
     "height": 357
    },
    "colab_type": "code",
    "id": "kL2-bxV1T4AM",
    "outputId": "c61d9372-89ff-4ca2-959d-a541f8f8b0e8"
   },
   "outputs": [
    {
     "name": "stdout",
     "output_type": "stream",
     "text": [
      "Model: \"model_training\"\n",
      "__________________________________________________________________________________________________\n",
      "Layer (type)                    Output Shape         Param #     Connected to                     \n",
      "==================================================================================================\n",
      "encoder_input_x (InputLayer)    (None, None, 39)     0                                            \n",
      "__________________________________________________________________________________________________\n",
      "decoder_input_x (InputLayer)    (None, None, 51)     0                                            \n",
      "__________________________________________________________________________________________________\n",
      "encoder (Model)                 [(None, 512), (None, 606208      encoder_input_x[0][0]            \n",
      "__________________________________________________________________________________________________\n",
      "decoder_lstm (LSTM)             [(None, None, 512),  1155072     decoder_input_x[0][0]            \n",
      "                                                                 encoder[1][0]                    \n",
      "                                                                 encoder[1][1]                    \n",
      "__________________________________________________________________________________________________\n",
      "decoder_dense (Dense)           (None, None, 51)     26163       decoder_lstm[1][0]               \n",
      "==================================================================================================\n",
      "Total params: 1,787,443\n",
      "Trainable params: 1,787,443\n",
      "Non-trainable params: 0\n",
      "__________________________________________________________________________________________________\n"
     ]
    }
   ],
   "source": [
    "from IPython.display import SVG\n",
    "from keras.utils.vis_utils import model_to_dot, plot_model\n",
    "\n",
    "SVG(model_to_dot(model, show_shapes=False).create(prog='dot', format='svg'))\n",
    "\n",
    "plot_model(\n",
    "    model=model, show_shapes=False,\n",
    "    to_file='model_training.pdf'\n",
    ")\n",
    "\n",
    "model.summary()"
   ]
  },
  {
   "cell_type": "code",
   "execution_count": 0,
   "metadata": {
    "colab": {
     "base_uri": "https://localhost:8080/",
     "height": 68
    },
    "colab_type": "code",
    "id": "Z9upn619Fj3N",
    "outputId": "8b01f290-eae7-4bbe-bcd0-69b68ee0d9de"
   },
   "outputs": [
    {
     "name": "stdout",
     "output_type": "stream",
     "text": [
      "shape of encoder_input_data(20000, 19, 39)\n",
      "shape of decoder_input_data(20000, 68, 51)\n",
      "shape of decoder_target_data(20000, 68, 51)\n"
     ]
    }
   ],
   "source": [
    "print('shape of encoder_input_data' + str(encoder_input_data.shape))\n",
    "print('shape of decoder_input_data' + str(decoder_input_data.shape))\n",
    "print('shape of decoder_target_data' + str(decoder_target_data.shape))"
   ]
  },
  {
   "cell_type": "code",
   "execution_count": 0,
   "metadata": {
    "colab": {
     "base_uri": "https://localhost:8080/",
     "height": 1000
    },
    "colab_type": "code",
    "id": "tgg5jUhTPROA",
    "outputId": "c0a2afcc-0616-4804-a417-07dbd492769e"
   },
   "outputs": [
    {
     "name": "stdout",
     "output_type": "stream",
     "text": [
      "Train on 16000 samples, validate on 4000 samples\n",
      "Epoch 1/50\n",
      "16000/16000 [==============================] - 237s 15ms/step - loss: 0.8674 - val_loss: 0.7613\n",
      "Epoch 2/50\n",
      "16000/16000 [==============================] - 237s 15ms/step - loss: 0.6400 - val_loss: 0.6545\n",
      "Epoch 3/50\n",
      "16000/16000 [==============================] - 239s 15ms/step - loss: 0.5952 - val_loss: 0.6085\n",
      "Epoch 4/50\n",
      "16000/16000 [==============================] - 241s 15ms/step - loss: 0.5654 - val_loss: 0.5716\n",
      "Epoch 5/50\n",
      "16000/16000 [==============================] - 243s 15ms/step - loss: 0.5426 - val_loss: 0.5537\n",
      "Epoch 6/50\n",
      "16000/16000 [==============================] - 244s 15ms/step - loss: 0.5243 - val_loss: 0.5209\n",
      "Epoch 7/50\n",
      "16000/16000 [==============================] - 245s 15ms/step - loss: 0.5100 - val_loss: 0.5074\n",
      "Epoch 8/50\n",
      "16000/16000 [==============================] - 244s 15ms/step - loss: 0.4978 - val_loss: 0.4896\n",
      "Epoch 9/50\n",
      "16000/16000 [==============================] - 242s 15ms/step - loss: 0.4874 - val_loss: 0.4794\n",
      "Epoch 10/50\n",
      "16000/16000 [==============================] - 244s 15ms/step - loss: 0.4755 - val_loss: 0.4721\n",
      "Epoch 11/50\n",
      "16000/16000 [==============================] - 243s 15ms/step - loss: 0.4663 - val_loss: 0.4623\n",
      "Epoch 12/50\n",
      "16000/16000 [==============================] - 247s 15ms/step - loss: 0.4595 - val_loss: 0.4573\n",
      "Epoch 13/50\n",
      "16000/16000 [==============================] - 248s 15ms/step - loss: 0.4520 - val_loss: 0.4447\n",
      "Epoch 14/50\n",
      "16000/16000 [==============================] - 246s 15ms/step - loss: 0.4440 - val_loss: 0.4378\n",
      "Epoch 15/50\n",
      "16000/16000 [==============================] - 246s 15ms/step - loss: 0.4391 - val_loss: 0.4312\n",
      "Epoch 16/50\n",
      "16000/16000 [==============================] - 251s 16ms/step - loss: 0.4310 - val_loss: 0.4287\n",
      "Epoch 17/50\n",
      "16000/16000 [==============================] - 252s 16ms/step - loss: 0.4271 - val_loss: 0.4226\n",
      "Epoch 18/50\n",
      "16000/16000 [==============================] - 259s 16ms/step - loss: 0.4191 - val_loss: 0.4206\n",
      "Epoch 19/50\n",
      "16000/16000 [==============================] - 252s 16ms/step - loss: 0.4157 - val_loss: 0.4182\n",
      "Epoch 20/50\n",
      "16000/16000 [==============================] - 258s 16ms/step - loss: 0.4114 - val_loss: 0.4110\n",
      "Epoch 21/50\n",
      "16000/16000 [==============================] - 260s 16ms/step - loss: 0.4063 - val_loss: 0.4097\n",
      "Epoch 22/50\n",
      "16000/16000 [==============================] - 258s 16ms/step - loss: 0.4010 - val_loss: 0.4046\n",
      "Epoch 23/50\n",
      "16000/16000 [==============================] - 260s 16ms/step - loss: 0.3965 - val_loss: 0.4033\n",
      "Epoch 24/50\n",
      "16000/16000 [==============================] - 254s 16ms/step - loss: 0.3923 - val_loss: 0.4052\n",
      "Epoch 25/50\n",
      "16000/16000 [==============================] - 255s 16ms/step - loss: 0.3894 - val_loss: 0.4000\n",
      "Epoch 26/50\n",
      "16000/16000 [==============================] - 258s 16ms/step - loss: 0.3862 - val_loss: 0.3981\n",
      "Epoch 27/50\n",
      "16000/16000 [==============================] - 253s 16ms/step - loss: 0.3828 - val_loss: 0.3965\n",
      "Epoch 28/50\n",
      "16000/16000 [==============================] - 258s 16ms/step - loss: 0.3788 - val_loss: 0.3965\n",
      "Epoch 29/50\n",
      "16000/16000 [==============================] - 259s 16ms/step - loss: 0.3752 - val_loss: 0.3908\n",
      "Epoch 30/50\n",
      "16000/16000 [==============================] - 259s 16ms/step - loss: 0.3715 - val_loss: 0.3898\n",
      "Epoch 31/50\n",
      "16000/16000 [==============================] - 260s 16ms/step - loss: 0.3690 - val_loss: 0.3869\n",
      "Epoch 32/50\n",
      "16000/16000 [==============================] - 260s 16ms/step - loss: 0.3660 - val_loss: 0.3884\n",
      "Epoch 33/50\n",
      "16000/16000 [==============================] - 255s 16ms/step - loss: 0.3634 - val_loss: 0.3850\n",
      "Epoch 34/50\n",
      "16000/16000 [==============================] - 259s 16ms/step - loss: 0.3601 - val_loss: 0.3888\n",
      "Epoch 35/50\n",
      "16000/16000 [==============================] - 263s 16ms/step - loss: 0.3581 - val_loss: 0.3828\n",
      "Epoch 36/50\n",
      "16000/16000 [==============================] - 258s 16ms/step - loss: 0.3550 - val_loss: 0.3836\n",
      "Epoch 37/50\n",
      "16000/16000 [==============================] - 254s 16ms/step - loss: 0.3515 - val_loss: 0.3820\n",
      "Epoch 38/50\n",
      "16000/16000 [==============================] - 254s 16ms/step - loss: 0.3497 - val_loss: 0.3840\n",
      "Epoch 39/50\n",
      "16000/16000 [==============================] - 253s 16ms/step - loss: 0.3477 - val_loss: 0.3834\n",
      "Epoch 40/50\n",
      "16000/16000 [==============================] - 252s 16ms/step - loss: 0.3449 - val_loss: 0.3853\n",
      "Epoch 41/50\n",
      "16000/16000 [==============================] - 255s 16ms/step - loss: 0.3434 - val_loss: 0.3797\n",
      "Epoch 42/50\n",
      "16000/16000 [==============================] - 254s 16ms/step - loss: 0.3411 - val_loss: 0.3788\n",
      "Epoch 43/50\n",
      "16000/16000 [==============================] - 252s 16ms/step - loss: 0.3397 - val_loss: 0.3819\n",
      "Epoch 44/50\n",
      "16000/16000 [==============================] - 252s 16ms/step - loss: 0.3389 - val_loss: 0.3820\n",
      "Epoch 45/50\n",
      "16000/16000 [==============================] - 251s 16ms/step - loss: 0.3340 - val_loss: 0.3788\n",
      "Epoch 46/50\n",
      "16000/16000 [==============================] - 254s 16ms/step - loss: 0.3349 - val_loss: 0.3785\n",
      "Epoch 47/50\n",
      "16000/16000 [==============================] - 250s 16ms/step - loss: 0.3319 - val_loss: 0.3811\n",
      "Epoch 48/50\n",
      "16000/16000 [==============================] - 248s 15ms/step - loss: 0.3299 - val_loss: 0.3795\n",
      "Epoch 49/50\n",
      "16000/16000 [==============================] - 246s 15ms/step - loss: 0.3287 - val_loss: 0.3800\n",
      "Epoch 50/50\n",
      "16000/16000 [==============================] - 248s 16ms/step - loss: 0.3260 - val_loss: 0.3769\n"
     ]
    }
   ],
   "source": [
    "model.compile(optimizer='rmsprop', loss='categorical_crossentropy')\n",
    "\n",
    "model.fit([encoder_input_data, decoder_input_data],  # training data\n",
    "          decoder_target_data,                       # labels (left shift of the target sequences)\n",
    "          batch_size=64, epochs=50, validation_split=0.2)\n",
    "\n",
    "model.save('seq2seq.h5')"
   ]
  },
  {
   "cell_type": "code",
   "execution_count": 0,
   "metadata": {
    "colab": {},
    "colab_type": "code",
    "id": "t5TWnTdtVZPZ"
   },
   "outputs": [],
   "source": []
  },
  {
   "cell_type": "markdown",
   "metadata": {
    "colab_type": "text",
    "id": "Oa2zKdsmaWqb"
   },
   "source": [
    "## 5. Make predictions\n",
    "\n",
    "\n",
    "\n",
    "### 5.1. Translate English to Spanish\n",
    "\n",
    "1. Encoder read a sentence (source language) and output its final states, $h_t$ and $c_t$.\n",
    "2. Take the [star] sign \"\\t\" and the final state $h_t$ and $c_t$ as input and run the decoder.\n",
    "3. Get the new states and predicted probability distribution.\n",
    "4. sample a char from the predicted probability distribution\n",
    "5. take the sampled char and the new states as input and repeat the process (stop if reach the [stop] sign \"\\n\")."
   ]
  },
  {
   "cell_type": "code",
   "execution_count": 0,
   "metadata": {
    "colab": {},
    "colab_type": "code",
    "id": "DNCoaNxSaWqd"
   },
   "outputs": [],
   "source": [
    "# Reverse-lookup token index to decode sequences back to something readable.\n",
    "reverse_input_char_index = dict((i, char) for char, i in input_token_index.items())\n",
    "reverse_target_char_index = dict((i, char) for char, i in target_token_index.items())"
   ]
  },
  {
   "cell_type": "code",
   "execution_count": 0,
   "metadata": {
    "colab": {},
    "colab_type": "code",
    "id": "QPIcdknDaWqv"
   },
   "outputs": [],
   "source": [
    "def decode_sequence(input_seq):\n",
    "    states_value = encoder_model.predict(input_seq)\n",
    "\n",
    "    target_seq = numpy.zeros((1, 1, num_decoder_tokens))\n",
    "    target_seq[0, 0, target_token_index['\\t']] = 1.\n",
    "\n",
    "    stop_condition = False\n",
    "    decoded_sentence = ''\n",
    "    while not stop_condition:\n",
    "        output_tokens, h, c = decoder_model.predict([target_seq] + states_value)\n",
    "\n",
    "        # this line of code is greedy selection\n",
    "        # try to use multinomial sampling instead (with temperature)\n",
    "        sampled_token_index = numpy.argmax(output_tokens[0, -1, :])\n",
    "        \n",
    "        sampled_char = reverse_target_char_index[sampled_token_index]\n",
    "        decoded_sentence += sampled_char\n",
    "\n",
    "        if (sampled_char == '\\n' or\n",
    "           len(decoded_sentence) > max_decoder_seq_length):\n",
    "            stop_condition = True\n",
    "\n",
    "        target_seq = numpy.zeros((1, 1, num_decoder_tokens))\n",
    "        target_seq[0, 0, sampled_token_index] = 1.\n",
    "\n",
    "        states_value = [h, c]\n",
    "\n",
    "    return decoded_sentence\n"
   ]
  },
  {
   "cell_type": "code",
   "execution_count": 0,
   "metadata": {
    "colab": {
     "base_uri": "https://localhost:8080/",
     "height": 1000
    },
    "colab_type": "code",
    "id": "9h9HPXAdaWq6",
    "outputId": "5695e4b1-1db4-40fd-9a12-91ece9a5768a"
   },
   "outputs": [
    {
     "name": "stdout",
     "output_type": "stream",
     "text": [
      "-\n",
      "English:        im not tom\n",
      "Canton (true):  no soy tom\n",
      "Canton (pred):  no soy tom\n",
      "-\n",
      "English:        im not fat\n",
      "Canton (true):  no soy gorda\n",
      "Canton (pred):  no soy tamida\n",
      "-\n",
      "English:        im not fat\n",
      "Canton (true):  ¡no estoy gorda\n",
      "Canton (pred):  no soy tamida\n",
      "-\n",
      "English:        im not old\n",
      "Canton (true):  no estoy viejo\n",
      "Canton (pred):  no estoy listo\n",
      "-\n",
      "English:        im not sad\n",
      "Canton (true):  no estoy triste\n",
      "Canton (pred):  no estoy listo\n",
      "-\n",
      "English:        im not shy\n",
      "Canton (true):  yo no soy tímido\n",
      "Canton (pred):  no estoy listo\n",
      "-\n",
      "English:        im not shy\n",
      "Canton (true):  yo no soy tímida\n",
      "Canton (pred):  no estoy listo\n",
      "-\n",
      "English:        im patient\n",
      "Canton (true):  soy paciente\n",
      "Canton (pred):  estoy confundida\n",
      "-\n",
      "English:        im psyched\n",
      "Canton (true):  estoy mentalizado\n",
      "Canton (pred):  estoy amegado\n",
      "-\n",
      "English:        im reading\n",
      "Canton (true):  estoy leyendo\n",
      "Canton (pred):  estoy emparazada\n",
      "-\n",
      "English:        im resting\n",
      "Canton (true):  estoy descansando\n",
      "Canton (pred):  estoy emparazada\n",
      "-\n",
      "English:        im selfish\n",
      "Canton (true):  soy egoísta\n",
      "Canton (pred):  estoy may feliz\n",
      "-\n",
      "English:        im serious\n",
      "Canton (true):  lo digo en serio\n",
      "Canton (pred):  estoy amurro\n",
      "-\n",
      "English:        im serious\n",
      "Canton (true):  hablo en serio\n",
      "Canton (pred):  estoy amurro\n",
      "-\n",
      "English:        im sloshed\n",
      "Canton (true):  estoy borracho\n",
      "Canton (pred):  estoy confundido\n",
      "-\n",
      "English:        im so full\n",
      "Canton (true):  estoy tan lleno\n",
      "Canton (pred):  estoy tan cordo\n",
      "-\n",
      "English:        im starved\n",
      "Canton (true):  ¡me muero de hambre\n",
      "Canton (pred):  estoy casado\n",
      "-\n",
      "English:        im starved\n",
      "Canton (true):  estoy muerto de hambre\n",
      "Canton (pred):  estoy casado\n",
      "-\n",
      "English:        im through\n",
      "Canton (true):  he terminado\n",
      "Canton (pred):  estoy emparazada\n",
      "-\n",
      "English:        im too fat\n",
      "Canton (true):  yo soy demasiado gordo\n",
      "Canton (pred):  soy de asiado tomido\n"
     ]
    }
   ],
   "source": [
    "for seq_index in range(2100, 2120):\n",
    "    # Take one sequence (part of the training set)\n",
    "    # for trying out decoding.\n",
    "    input_seq = encoder_input_data[seq_index: seq_index + 1]\n",
    "    decoded_sentence = decode_sequence(input_seq)\n",
    "    print('-')\n",
    "    print('English:       ', input_texts[seq_index])\n",
    "    print('Canton (true): ', target_texts[seq_index][1:-1])\n",
    "    print('Canton (pred): ', decoded_sentence[0:-1])\n"
   ]
  },
  {
   "cell_type": "markdown",
   "metadata": {
    "colab_type": "text",
    "id": "xr03kN1zaWrB"
   },
   "source": [
    "### 5.2. Translate an English sentence to the target language\n",
    "\n",
    "1. Tokenization\n",
    "2. One-hot encode\n",
    "3. Translate"
   ]
  },
  {
   "cell_type": "code",
   "execution_count": 0,
   "metadata": {
    "colab": {
     "base_uri": "https://localhost:8080/",
     "height": 68
    },
    "colab_type": "code",
    "id": "t3OFaa_5aWrD",
    "outputId": "d64bfdb2-26dd-4827-9092-ddb4a41b38f5"
   },
   "outputs": [
    {
     "name": "stdout",
     "output_type": "stream",
     "text": [
      "source sentence is: I love you\n",
      "translated sentence is: está bien\n",
      "\n"
     ]
    }
   ],
   "source": [
    "input_sentence = 'I love you'\n",
    "\n",
    "input_sequence, input_index = text2sequences(max_encoder_seq_length, \n",
    "                                                      input_sentence)\n",
    "\n",
    "input_x = onehot_encode(input_sequence, max_encoder_seq_length, num_encoder_tokens)\n",
    "\n",
    "translated_sentence = decode_sequence(input_x)\n",
    "\n",
    "print('source sentence is: ' + input_sentence)\n",
    "print('translated sentence is: ' + translated_sentence)"
   ]
  },
  {
   "cell_type": "markdown",
   "metadata": {
    "colab_type": "text",
    "id": "szUbtFa-aWrN"
   },
   "source": [
    "## 6. Evaluate the translation using BLEU score\n",
    "\n",
    "Reference: \n",
    "- https://machinelearningmastery.com/calculate-bleu-score-for-text-python/\n",
    "- https://en.wikipedia.org/wiki/BLEU\n",
    "\n",
    "\n",
    "**Hint:** \n",
    "\n",
    "- Randomly partition the dataset to training, validation, and test. \n",
    "\n",
    "- Evaluate the BLEU score using the test set. Report the average.\n",
    "\n",
    "- A reasonable BLEU score should be 0.1 ~ 0.5."
   ]
  },
  {
   "cell_type": "code",
   "execution_count": 0,
   "metadata": {
    "colab": {},
    "colab_type": "code",
    "id": "o1yzVfMHhHe5"
   },
   "outputs": [],
   "source": [
    "doc = load_doc(filename)\n",
    "\n",
    "# split into Language1-Language2 pairs\n",
    "pairs = to_pairs(doc)\n",
    "\n",
    "# clean sentences\n",
    "clean_pairs = clean_data(pairs)"
   ]
  },
  {
   "cell_type": "code",
   "execution_count": 9,
   "metadata": {
    "colab": {
     "base_uri": "https://localhost:8080/",
     "height": 34
    },
    "colab_type": "code",
    "id": "OkCdC7B3keiF",
    "outputId": "0a5d1eac-bb6b-4496-bc91-b6e29a2d11c8"
   },
   "outputs": [
    {
     "name": "stdout",
     "output_type": "stream",
     "text": [
      "123770\n"
     ]
    }
   ],
   "source": [
    "print(clean_pairs.shape[0])"
   ]
  },
  {
   "cell_type": "code",
   "execution_count": 0,
   "metadata": {
    "colab": {},
    "colab_type": "code",
    "id": "zRTKGyB5kY0c"
   },
   "outputs": [],
   "source": [
    "n = 25000\n",
    "n_train = 20000\n",
    "n_test = n - n_train\n",
    "\n",
    "rand_indices = numpy.random.permutation(n)\n",
    "train_indices = rand_indices[0:n_train]\n",
    "test_indices = rand_indices[n_train:n]\n"
   ]
  },
  {
   "cell_type": "code",
   "execution_count": 10,
   "metadata": {
    "colab": {
     "base_uri": "https://localhost:8080/",
     "height": 51
    },
    "colab_type": "code",
    "id": "GRxoOtRThO9K",
    "outputId": "0923aa8c-41cd-41e8-acf1-7485c254c2a7"
   },
   "outputs": [
    {
     "name": "stdout",
     "output_type": "stream",
     "text": [
      "Length of input_texts:  (20000,)\n",
      "Length of target_texts: (20000,)\n"
     ]
    }
   ],
   "source": [
    "input_texts_train = clean_pairs[train_indices, 0]\n",
    "target_texts_train = ['\\t' + text + '\\n' for text in clean_pairs[train_indices, 1]]\n",
    "print('Length of input_texts:  ' + str(input_texts_train.shape))\n",
    "print('Length of target_texts: ' + str(input_texts_train.shape))"
   ]
  },
  {
   "cell_type": "code",
   "execution_count": 11,
   "metadata": {
    "colab": {
     "base_uri": "https://localhost:8080/",
     "height": 51
    },
    "colab_type": "code",
    "id": "yzBlmpxVhWSc",
    "outputId": "2a5e89d3-2ebd-4120-bda3-dfb3ed3e68e9"
   },
   "outputs": [
    {
     "name": "stdout",
     "output_type": "stream",
     "text": [
      "max length of input  sentences: 20\n",
      "max length of target sentences: 68\n"
     ]
    }
   ],
   "source": [
    "max_encoder_seq_length = max(len(line) for line in input_texts_train)\n",
    "max_decoder_seq_length = max(len(line) for line in target_texts_train)\n",
    "\n",
    "print('max length of input  sentences: %d' % (max_encoder_seq_length))\n",
    "print('max length of target sentences: %d' % (max_decoder_seq_length))"
   ]
  },
  {
   "cell_type": "code",
   "execution_count": 12,
   "metadata": {
    "colab": {
     "base_uri": "https://localhost:8080/",
     "height": 102
    },
    "colab_type": "code",
    "id": "qqUC7PoblADY",
    "outputId": "ad9804f6-0e7b-4fe0-ecc6-16140c024773"
   },
   "outputs": [
    {
     "name": "stderr",
     "output_type": "stream",
     "text": [
      "Using TensorFlow backend.\n"
     ]
    },
    {
     "name": "stdout",
     "output_type": "stream",
     "text": [
      "shape of encoder_input_seq: (20000, 20)\n",
      "shape of input_token_index: 27\n",
      "shape of decoder_input_seq: (20000, 68)\n",
      "shape of target_token_index: 29\n"
     ]
    }
   ],
   "source": [
    "from keras.preprocessing.text import Tokenizer\n",
    "from keras.preprocessing.sequence import pad_sequences\n",
    "\n",
    "# encode and pad sequences\n",
    "def text2sequences(max_len, lines):\n",
    "    tokenizer = Tokenizer(char_level=True, filters='')\n",
    "    tokenizer.fit_on_texts(lines)\n",
    "    seqs = tokenizer.texts_to_sequences(lines)\n",
    "    seqs_pad = pad_sequences(seqs, maxlen=max_len, padding='post')\n",
    "    return seqs_pad, tokenizer.word_index\n",
    "\n",
    "\n",
    "encoder_input_seq, input_token_index = text2sequences(max_encoder_seq_length, \n",
    "                                                      input_texts_train)\n",
    "decoder_input_seq, target_token_index = text2sequences(max_decoder_seq_length, \n",
    "                                                       target_texts_train)\n",
    "\n",
    "print('shape of encoder_input_seq: ' + str(encoder_input_seq.shape))\n",
    "print('shape of input_token_index: ' + str(len(input_token_index)))\n",
    "print('shape of decoder_input_seq: ' + str(decoder_input_seq.shape))\n",
    "print('shape of target_token_index: ' + str(len(target_token_index)))"
   ]
  },
  {
   "cell_type": "code",
   "execution_count": 13,
   "metadata": {
    "colab": {
     "base_uri": "https://localhost:8080/",
     "height": 51
    },
    "colab_type": "code",
    "id": "JsFBfFAflwLo",
    "outputId": "88ffa368-d489-496e-84a3-fcfa41ec59c1"
   },
   "outputs": [
    {
     "name": "stdout",
     "output_type": "stream",
     "text": [
      "num_encoder_tokens: 28\n",
      "num_decoder_tokens: 30\n"
     ]
    }
   ],
   "source": [
    "num_encoder_tokens = len(input_token_index) + 1\n",
    "num_decoder_tokens = len(target_token_index) + 1\n",
    "\n",
    "print('num_encoder_tokens: ' + str(num_encoder_tokens))\n",
    "print('num_decoder_tokens: ' + str(num_decoder_tokens))"
   ]
  },
  {
   "cell_type": "markdown",
   "metadata": {
    "colab_type": "text",
    "id": "3GU93iz_l-zV"
   },
   "source": [
    "### One-hot encode"
   ]
  },
  {
   "cell_type": "code",
   "execution_count": 14,
   "metadata": {
    "colab": {
     "base_uri": "https://localhost:8080/",
     "height": 51
    },
    "colab_type": "code",
    "id": "PMa6L_IIl9XO",
    "outputId": "e33e66f3-f6e2-4caf-d0df-e19b580b3f2b"
   },
   "outputs": [
    {
     "name": "stdout",
     "output_type": "stream",
     "text": [
      "(20000, 20, 28)\n",
      "(20000, 68, 30)\n"
     ]
    }
   ],
   "source": [
    "from keras.utils import to_categorical\n",
    "\n",
    "# one hot encode target sequence\n",
    "def onehot_encode(sequences, max_len, vocab_size):\n",
    "    n = len(sequences)\n",
    "    data = numpy.zeros((n, max_len, vocab_size))\n",
    "    for i in range(n):\n",
    "        data[i, :, :] = to_categorical(sequences[i], num_classes=vocab_size)\n",
    "    return data\n",
    "\n",
    "encoder_input_data = onehot_encode(encoder_input_seq, max_encoder_seq_length, num_encoder_tokens)\n",
    "decoder_input_data = onehot_encode(decoder_input_seq, max_decoder_seq_length, num_decoder_tokens)\n",
    "\n",
    "decoder_target_seq = numpy.zeros(decoder_input_seq.shape)\n",
    "decoder_target_seq[:, 0:-1] = decoder_input_seq[:, 1:]\n",
    "decoder_target_data = onehot_encode(decoder_target_seq, \n",
    "                                    max_decoder_seq_length, \n",
    "                                    num_decoder_tokens)\n",
    "\n",
    "print(encoder_input_data.shape)\n",
    "print(decoder_input_data.shape)"
   ]
  },
  {
   "cell_type": "markdown",
   "metadata": {
    "colab_type": "text",
    "id": "gPL-0ob6mRkL"
   },
   "source": [
    "### Build network (Bi-LSTM + LSTM)"
   ]
  },
  {
   "cell_type": "code",
   "execution_count": 0,
   "metadata": {
    "colab": {},
    "colab_type": "code",
    "id": "vFILFS9Rl7Gp"
   },
   "outputs": [],
   "source": [
    "from keras.layers import Bidirectional, Concatenate\n",
    "from keras.layers import Input, LSTM, Dense\n",
    "from keras.models import Model\n",
    "\n",
    "latent_dim = 256\n",
    "\n",
    "encoder_inputs = Input(shape=(None, num_encoder_tokens), \n",
    "                       name='encoder_inputs')\n",
    "\n",
    "encoder_bilstm = Bidirectional(LSTM(latent_dim, return_state=True, \n",
    "                                  dropout=0.5, name='encoder_lstm'))\n",
    "_, forward_h, forward_c, backward_h, backward_c = encoder_bilstm(encoder_inputs)\n",
    "\n",
    "state_h = Concatenate()([forward_h, backward_h])\n",
    "state_c = Concatenate()([forward_c, backward_c])\n",
    "\n",
    "encoder_model = Model(inputs=encoder_inputs, \n",
    "                      outputs=[state_h, state_c],\n",
    "                      name='encoder')"
   ]
  },
  {
   "cell_type": "code",
   "execution_count": 0,
   "metadata": {
    "colab": {},
    "colab_type": "code",
    "id": "h2_9U1hpmuXL"
   },
   "outputs": [],
   "source": [
    "decoder_input_h = Input(shape=(512,), name='decoder_input_h')\n",
    "decoder_input_c = Input(shape=(512,), name='decoder_input_c')\n",
    "decoder_input_x = Input(shape=(None, num_decoder_tokens), name='decoder_input_x')\n",
    "\n",
    "# set the LSTM layer\n",
    "decoder_lstm = LSTM(512, return_sequences=True, \n",
    "                    return_state=True, dropout=0.5, name='decoder_lstm')\n",
    "decoder_lstm_outputs, state_h, state_c = decoder_lstm(decoder_input_x, \n",
    "                                                      initial_state=[decoder_input_h, decoder_input_c])\n",
    "\n",
    "# set the dense layer\n",
    "decoder_dense = Dense(num_decoder_tokens, activation='softmax', name='decoder_dense')\n",
    "decoder_outputs = decoder_dense(decoder_lstm_outputs)\n",
    "\n",
    "# build the decoder network model\n",
    "decoder_model = Model(inputs=[decoder_input_x, decoder_input_h, decoder_input_c],\n",
    "                      outputs=[decoder_outputs, state_h, state_c],\n",
    "                      name='decoder')"
   ]
  },
  {
   "cell_type": "code",
   "execution_count": 0,
   "metadata": {
    "colab": {},
    "colab_type": "code",
    "id": "4d1nC_9Vm-Mj"
   },
   "outputs": [],
   "source": [
    "encoder_input_x = Input(shape=(None, num_encoder_tokens), name='encoder_input_x')\n",
    "decoder_input_x = Input(shape=(None, num_decoder_tokens), name='decoder_input_x')\n",
    "\n",
    "# connect encoder to decoder\n",
    "encoder_final_states = encoder_model([encoder_input_x])\n",
    "decoder_lstm_output, _, _ = decoder_lstm(decoder_input_x, initial_state=encoder_final_states)\n",
    "decoder_pred = decoder_dense(decoder_lstm_output)\n",
    "\n",
    "model = Model(inputs=[encoder_input_x, decoder_input_x], \n",
    "              outputs=decoder_pred, \n",
    "              name='model_training')"
   ]
  },
  {
   "cell_type": "code",
   "execution_count": 18,
   "metadata": {
    "colab": {
     "base_uri": "https://localhost:8080/",
     "height": 357
    },
    "colab_type": "code",
    "id": "T_jw6HYNm_2X",
    "outputId": "7a4c51cc-7ef9-4c0b-ff5a-8b8bb2302430"
   },
   "outputs": [
    {
     "name": "stdout",
     "output_type": "stream",
     "text": [
      "Model: \"model_training\"\n",
      "__________________________________________________________________________________________________\n",
      "Layer (type)                    Output Shape         Param #     Connected to                     \n",
      "==================================================================================================\n",
      "encoder_input_x (InputLayer)    (None, None, 28)     0                                            \n",
      "__________________________________________________________________________________________________\n",
      "decoder_input_x (InputLayer)    (None, None, 30)     0                                            \n",
      "__________________________________________________________________________________________________\n",
      "encoder (Model)                 [(None, 512), (None, 583680      encoder_input_x[0][0]            \n",
      "__________________________________________________________________________________________________\n",
      "decoder_lstm (LSTM)             [(None, None, 512),  1112064     decoder_input_x[0][0]            \n",
      "                                                                 encoder[1][0]                    \n",
      "                                                                 encoder[1][1]                    \n",
      "__________________________________________________________________________________________________\n",
      "decoder_dense (Dense)           (None, None, 30)     15390       decoder_lstm[1][0]               \n",
      "==================================================================================================\n",
      "Total params: 1,711,134\n",
      "Trainable params: 1,711,134\n",
      "Non-trainable params: 0\n",
      "__________________________________________________________________________________________________\n"
     ]
    }
   ],
   "source": [
    "from IPython.display import SVG\n",
    "from keras.utils.vis_utils import model_to_dot, plot_model\n",
    "\n",
    "SVG(model_to_dot(model, show_shapes=False).create(prog='dot', format='svg'))\n",
    "\n",
    "plot_model(\n",
    "    model=model, show_shapes=False,\n",
    "    to_file='model_training.pdf'\n",
    ")\n",
    "\n",
    "model.summary()"
   ]
  },
  {
   "cell_type": "code",
   "execution_count": 19,
   "metadata": {
    "colab": {
     "base_uri": "https://localhost:8080/",
     "height": 1000
    },
    "colab_type": "code",
    "id": "I6Zccjl7nHOj",
    "outputId": "a11dcbb9-bbe7-40c6-d449-270bcfa2dc65"
   },
   "outputs": [
    {
     "name": "stdout",
     "output_type": "stream",
     "text": [
      "Train on 16000 samples, validate on 4000 samples\n",
      "Epoch 1/50\n",
      "16000/16000 [==============================] - 362s 23ms/step - loss: 0.8858 - val_loss: 0.6660\n",
      "Epoch 2/50\n",
      "16000/16000 [==============================] - 362s 23ms/step - loss: 0.6653 - val_loss: 0.5586\n",
      "Epoch 3/50\n",
      "16000/16000 [==============================] - 361s 23ms/step - loss: 0.6230 - val_loss: 0.5134\n",
      "Epoch 4/50\n",
      "16000/16000 [==============================] - 362s 23ms/step - loss: 0.5963 - val_loss: 0.4797\n",
      "Epoch 5/50\n",
      "16000/16000 [==============================] - 360s 23ms/step - loss: 0.5772 - val_loss: 0.4602\n",
      "Epoch 6/50\n",
      "16000/16000 [==============================] - 361s 23ms/step - loss: 0.5596 - val_loss: 0.4443\n",
      "Epoch 7/50\n",
      "16000/16000 [==============================] - 359s 22ms/step - loss: 0.5457 - val_loss: 0.4257\n",
      "Epoch 8/50\n",
      "16000/16000 [==============================] - 363s 23ms/step - loss: 0.5327 - val_loss: 0.4138\n",
      "Epoch 9/50\n",
      "16000/16000 [==============================] - 361s 23ms/step - loss: 0.5229 - val_loss: 0.4030\n",
      "Epoch 10/50\n",
      "16000/16000 [==============================] - 358s 22ms/step - loss: 0.5105 - val_loss: 0.3949\n",
      "Epoch 11/50\n",
      "16000/16000 [==============================] - 360s 23ms/step - loss: 0.5052 - val_loss: 0.3842\n",
      "Epoch 12/50\n",
      "16000/16000 [==============================] - 359s 22ms/step - loss: 0.4953 - val_loss: 0.3758\n",
      "Epoch 13/50\n",
      "16000/16000 [==============================] - 357s 22ms/step - loss: 0.4890 - val_loss: 0.3698\n",
      "Epoch 14/50\n",
      "16000/16000 [==============================] - 359s 22ms/step - loss: 0.4818 - val_loss: 0.3635\n",
      "Epoch 15/50\n",
      "16000/16000 [==============================] - 360s 23ms/step - loss: 0.4769 - val_loss: 0.3575\n",
      "Epoch 16/50\n",
      "16000/16000 [==============================] - 360s 23ms/step - loss: 0.4688 - val_loss: 0.3584\n",
      "Epoch 17/50\n",
      "16000/16000 [==============================] - 357s 22ms/step - loss: 0.4636 - val_loss: 0.3457\n",
      "Epoch 18/50\n",
      "16000/16000 [==============================] - 361s 23ms/step - loss: 0.4573 - val_loss: 0.3446\n",
      "Epoch 19/50\n",
      "16000/16000 [==============================] - 358s 22ms/step - loss: 0.4526 - val_loss: 0.3394\n",
      "Epoch 20/50\n",
      "16000/16000 [==============================] - 364s 23ms/step - loss: 0.4483 - val_loss: 0.3348\n",
      "Epoch 21/50\n",
      "16000/16000 [==============================] - 361s 23ms/step - loss: 0.4430 - val_loss: 0.3369\n",
      "Epoch 22/50\n",
      "16000/16000 [==============================] - 356s 22ms/step - loss: 0.4376 - val_loss: 0.3311\n",
      "Epoch 23/50\n",
      "16000/16000 [==============================] - 357s 22ms/step - loss: 0.4339 - val_loss: 0.3262\n",
      "Epoch 24/50\n",
      "16000/16000 [==============================] - 357s 22ms/step - loss: 0.4299 - val_loss: 0.3261\n",
      "Epoch 25/50\n",
      "16000/16000 [==============================] - 368s 23ms/step - loss: 0.4247 - val_loss: 0.3228\n",
      "Epoch 26/50\n",
      "16000/16000 [==============================] - 366s 23ms/step - loss: 0.4235 - val_loss: 0.3190\n",
      "Epoch 27/50\n",
      "16000/16000 [==============================] - 373s 23ms/step - loss: 0.4194 - val_loss: 0.3193\n",
      "Epoch 28/50\n",
      "16000/16000 [==============================] - 375s 23ms/step - loss: 0.4159 - val_loss: 0.3180\n",
      "Epoch 29/50\n",
      "16000/16000 [==============================] - 377s 24ms/step - loss: 0.4117 - val_loss: 0.3122\n",
      "Epoch 30/50\n",
      "16000/16000 [==============================] - 364s 23ms/step - loss: 0.4093 - val_loss: 0.3100\n",
      "Epoch 31/50\n",
      "16000/16000 [==============================] - 359s 22ms/step - loss: 0.4043 - val_loss: 0.3087\n",
      "Epoch 32/50\n",
      "16000/16000 [==============================] - 345s 22ms/step - loss: 0.4029 - val_loss: 0.3079\n",
      "Epoch 33/50\n",
      "16000/16000 [==============================] - 344s 21ms/step - loss: 0.4002 - val_loss: 0.3069\n",
      "Epoch 34/50\n",
      "16000/16000 [==============================] - 346s 22ms/step - loss: 0.3969 - val_loss: 0.3049\n",
      "Epoch 35/50\n",
      "16000/16000 [==============================] - 345s 22ms/step - loss: 0.3954 - val_loss: 0.3022\n",
      "Epoch 36/50\n",
      "16000/16000 [==============================] - 345s 22ms/step - loss: 0.3917 - val_loss: 0.3047\n",
      "Epoch 37/50\n",
      "16000/16000 [==============================] - 352s 22ms/step - loss: 0.3885 - val_loss: 0.3010\n",
      "Epoch 38/50\n",
      "16000/16000 [==============================] - 348s 22ms/step - loss: 0.3866 - val_loss: 0.2992\n",
      "Epoch 39/50\n",
      "16000/16000 [==============================] - 349s 22ms/step - loss: 0.3858 - val_loss: 0.2962\n",
      "Epoch 40/50\n",
      "16000/16000 [==============================] - 347s 22ms/step - loss: 0.3809 - val_loss: 0.3001\n",
      "Epoch 41/50\n",
      "16000/16000 [==============================] - 344s 22ms/step - loss: 0.3790 - val_loss: 0.2975\n",
      "Epoch 42/50\n",
      "16000/16000 [==============================] - 345s 22ms/step - loss: 0.3775 - val_loss: 0.2949\n",
      "Epoch 43/50\n",
      "16000/16000 [==============================] - 345s 22ms/step - loss: 0.3750 - val_loss: 0.2953\n",
      "Epoch 44/50\n",
      "16000/16000 [==============================] - 344s 21ms/step - loss: 0.3753 - val_loss: 0.2943\n",
      "Epoch 45/50\n",
      "16000/16000 [==============================] - 328s 21ms/step - loss: 0.3711 - val_loss: 0.2932\n",
      "Epoch 46/50\n",
      "16000/16000 [==============================] - 338s 21ms/step - loss: 0.3694 - val_loss: 0.2937\n",
      "Epoch 47/50\n",
      "16000/16000 [==============================] - 329s 21ms/step - loss: 0.3667 - val_loss: 0.2937\n",
      "Epoch 48/50\n",
      "16000/16000 [==============================] - 334s 21ms/step - loss: 0.3670 - val_loss: 0.2905\n",
      "Epoch 49/50\n",
      "16000/16000 [==============================] - 335s 21ms/step - loss: 0.3637 - val_loss: 0.2932\n",
      "Epoch 50/50\n",
      "16000/16000 [==============================] - 330s 21ms/step - loss: 0.3617 - val_loss: 0.2914\n"
     ]
    }
   ],
   "source": [
    "model.compile(optimizer='rmsprop', loss='categorical_crossentropy')\n",
    "\n",
    "model.fit([encoder_input_data, decoder_input_data],  # training data\n",
    "          decoder_target_data,                       # labels (left shift of the target sequences)\n",
    "          batch_size=64, epochs=50, validation_split=0.2)\n",
    "\n",
    "model.save('seq2seq.h5')"
   ]
  },
  {
   "cell_type": "markdown",
   "metadata": {
    "colab_type": "text",
    "id": "O78xTf2NG447"
   },
   "source": [
    "### Transfer test data into sequence based on train data dictionary"
   ]
  },
  {
   "cell_type": "code",
   "execution_count": 0,
   "metadata": {
    "colab": {},
    "colab_type": "code",
    "id": "j-glJi7AHNwf"
   },
   "outputs": [],
   "source": [
    "input_texts_test = clean_pairs[test_indices, 0]\n",
    "target_texts_test = ['\\t' + text + '\\n' for text in clean_pairs[:, 1]]\n"
   ]
  },
  {
   "cell_type": "code",
   "execution_count": 0,
   "metadata": {
    "colab": {},
    "colab_type": "code",
    "id": "JFZMB8OWHCFV"
   },
   "outputs": [],
   "source": [
    "tokenizer = Tokenizer(char_level=True, filters='')\n",
    "tokenizer.fit_on_texts(input_texts_test)\n",
    "tokenizer.word_index = input_token_index\n",
    "test_input_seq = tokenizer.texts_to_sequences(input_texts_test)\n",
    "test_seq = pad_sequences(test_input_seq, maxlen=max_encoder_seq_length, padding='post')\n"
   ]
  },
  {
   "cell_type": "code",
   "execution_count": 0,
   "metadata": {
    "colab": {},
    "colab_type": "code",
    "id": "1JGB0Thu9jR2"
   },
   "outputs": [],
   "source": [
    "encoder_input_data = onehot_encode(test_seq, max_encoder_seq_length, num_encoder_tokens)\n"
   ]
  },
  {
   "cell_type": "markdown",
   "metadata": {
    "colab_type": "text",
    "id": "etUxi8W4TG28"
   },
   "source": [
    "### Calculate BLEU scores"
   ]
  },
  {
   "cell_type": "code",
   "execution_count": 0,
   "metadata": {
    "colab": {},
    "colab_type": "code",
    "id": "njmR63MuO5Ad"
   },
   "outputs": [],
   "source": [
    "reverse_input_char_index = dict((i, char) for char, i in input_token_index.items())\n",
    "reverse_target_char_index = dict((i, char) for char, i in target_token_index.items())"
   ]
  },
  {
   "cell_type": "code",
   "execution_count": 50,
   "metadata": {
    "colab": {
     "base_uri": "https://localhost:8080/",
     "height": 85
    },
    "colab_type": "code",
    "id": "pUdMVtQT9i-K",
    "outputId": "9e437065-87e7-46cf-93fa-60ece99dc9e9"
   },
   "outputs": [
    {
     "name": "stderr",
     "output_type": "stream",
     "text": [
      "/usr/local/lib/python3.6/dist-packages/nltk/translate/bleu_score.py:490: UserWarning: \n",
      "Corpus/Sentence contains 0 counts of 2-gram overlaps.\n",
      "BLEU scores might be undesirable; use SmoothingFunction().\n",
      "  warnings.warn(_msg)\n"
     ]
    }
   ],
   "source": [
    "from nltk.translate.bleu_score import sentence_bleu\n",
    "scores = []\n",
    "for seq_index in range(len(test_indices)):\n",
    "    # Take one sequence (part of the training set)\n",
    "    # for trying out decoding.\n",
    "    try:\n",
    "      input_seq = encoder_input_data[seq_index: seq_index + 1]\n",
    "      decoded_sentence = decode_sequence(input_seq)\n",
    "      score = sentence_bleu(target_texts_test[seq_index][1:-1], decoded_sentence[0:-1])\n",
    "      scores.append(score)\n",
    "    except:\n",
    "      continue\n"
   ]
  },
  {
   "cell_type": "code",
   "execution_count": 52,
   "metadata": {
    "colab": {
     "base_uri": "https://localhost:8080/",
     "height": 34
    },
    "colab_type": "code",
    "id": "hF_-kkx4nOBh",
    "outputId": "7e6d601e-b31d-48b1-e0ea-1f83ef3117b0"
   },
   "outputs": [
    {
     "name": "stdout",
     "output_type": "stream",
     "text": [
      "0.755012749077874\n"
     ]
    }
   ],
   "source": [
    "  import numpy \n",
    "  print(numpy.mean(scores))"
   ]
  },
  {
   "cell_type": "code",
   "execution_count": 0,
   "metadata": {
    "colab": {},
    "colab_type": "code",
    "id": "rHGvK29VSNpa"
   },
   "outputs": [],
   "source": []
  }
 ],
 "metadata": {
  "accelerator": "TPU",
  "colab": {
   "machine_shape": "hm",
   "name": "HM5.ipynb",
   "provenance": []
  },
  "kernelspec": {
   "display_name": "Python 3",
   "language": "python",
   "name": "python3"
  },
  "language_info": {
   "codemirror_mode": {
    "name": "ipython",
    "version": 3
   },
   "file_extension": ".py",
   "mimetype": "text/x-python",
   "name": "python",
   "nbconvert_exporter": "python",
   "pygments_lexer": "ipython3",
   "version": "3.6.9"
  }
 },
 "nbformat": 4,
 "nbformat_minor": 1
}
