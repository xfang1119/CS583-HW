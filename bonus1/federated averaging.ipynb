{
 "cells": [
  {
   "cell_type": "markdown",
   "metadata": {},
   "source": [
    "# Bonus1: Parallel Algorithms\n",
    "\n",
    "### Name: Xing Fang\n"
   ]
  },
  {
   "cell_type": "markdown",
   "metadata": {},
   "source": [
    "## 0. You will do the following:\n",
    "\n",
    "1. Read the lecture note: [click here](https://github.com/wangshusen/DeepLearning/blob/master/LectureNotes/Parallel/Parallel.pdf)\n",
    "\n",
    "2. Implement federated averaging or decentralized optimization.\n",
    "\n",
    "3. Plot the convergence curve. (The x-axis can be ```number of epochs``` or ```number of communication```. You must make sure the label is correct.)\n",
    "\n",
    "4. Convert the .IPYNB file to .HTML file.\n",
    "\n",
    "    * The HTML file must contain **the code** and **the output after execution**.\n",
    "    \n",
    "5. Upload this .HTML file to your Google Drive, Dropbox, or your Github repo. (If it is submitted to Google Drive or Dropbox, you must make the file open-access.)\n",
    "\n",
    "6. Submit the link to this .HTML file to Canvas.\n",
    "\n",
    "    * Example: https://github.com/wangshusen/CS583-2020S/blob/master/homework/Bonus1/Bonus1.html\n",
    "\n"
   ]
  },
  {
   "cell_type": "markdown",
   "metadata": {},
   "source": [
    "* Use 4 worker nodes.\n",
    "* Use GD and SGD (with batch size b=1).\n",
    "* Set the number of local iterations to q=1 and 8.\n",
    "* Plot (training) objective function against epochs or number of communications. Note the difference between #epochs and #communications.\n",
    "* Note also that there are 4 lines in your plot. (GD with q=1, GD with q=8, SGD with q=1, SGD with q=8.)"
   ]
  },
  {
   "cell_type": "markdown",
   "metadata": {},
   "source": [
    "# 1. Data processing\n",
    "\n",
    "- Download the Diabete dataset from https://www.csie.ntu.edu.tw/~cjlin/libsvmtools/datasets/binary/diabetes\n",
    "- Load the data using sklearn.\n",
    "- Preprocess the data."
   ]
  },
  {
   "cell_type": "markdown",
   "metadata": {},
   "source": [
    "## 1.1. Load the data"
   ]
  },
  {
   "cell_type": "code",
   "execution_count": 2,
   "metadata": {},
   "outputs": [
    {
     "name": "stdout",
     "output_type": "stream",
     "text": [
      "Shape of x: (768, 8)\n",
      "Shape of y: (768,)\n"
     ]
    }
   ],
   "source": [
    "from sklearn import datasets\n",
    "import numpy\n",
    "\n",
    "x_sparse, y = datasets.load_svmlight_file('diabetes')\n",
    "x = x_sparse.todense()\n",
    "\n",
    "print('Shape of x: ' + str(x.shape))\n",
    "print('Shape of y: ' + str(y.shape))"
   ]
  },
  {
   "cell_type": "markdown",
   "metadata": {},
   "source": [
    "## 1.2. Partition to training and test sets"
   ]
  },
  {
   "cell_type": "code",
   "execution_count": 3,
   "metadata": {},
   "outputs": [
    {
     "name": "stdout",
     "output_type": "stream",
     "text": [
      "Shape of x_train: (640, 8)\n",
      "Shape of x_test: (128, 8)\n",
      "Shape of y_train: (640, 1)\n",
      "Shape of y_test: (128, 1)\n"
     ]
    }
   ],
   "source": [
    "# partition the data to training and test sets\n",
    "n = x.shape[0]\n",
    "n_train = 640\n",
    "n_test = n - n_train\n",
    "\n",
    "rand_indices = numpy.random.permutation(n)\n",
    "train_indices = rand_indices[0:n_train]\n",
    "test_indices = rand_indices[n_train:n]\n",
    "\n",
    "x_train = x[train_indices, :]\n",
    "x_test = x[test_indices, :]\n",
    "y_train = y[train_indices].reshape(n_train, 1)\n",
    "y_test = y[test_indices].reshape(n_test, 1)\n",
    "\n",
    "print('Shape of x_train: ' + str(x_train.shape))\n",
    "print('Shape of x_test: ' + str(x_test.shape))\n",
    "print('Shape of y_train: ' + str(y_train.shape))\n",
    "print('Shape of y_test: ' + str(y_test.shape))"
   ]
  },
  {
   "cell_type": "markdown",
   "metadata": {},
   "source": [
    "## 1.3. Feature scaling"
   ]
  },
  {
   "cell_type": "markdown",
   "metadata": {},
   "source": [
    "Use the standardization to trainsform both training and test features"
   ]
  },
  {
   "cell_type": "code",
   "execution_count": 7,
   "metadata": {},
   "outputs": [
    {
     "name": "stdout",
     "output_type": "stream",
     "text": [
      "test mean = \n",
      "[[ 0.06968285  0.12067548 -0.01043312 -0.02461746  0.07120295  0.00808457\n",
      "  -0.06154169  0.03830305]]\n",
      "test std = \n",
      "[[1.04450484 0.99076301 1.00730435 1.02743366 0.97743226 0.95033703\n",
      "  0.91763283 0.98059081]]\n"
     ]
    }
   ],
   "source": [
    "# Standardization\n",
    "import numpy\n",
    "\n",
    "# calculate mu and sig using the training set\n",
    "d = x_train.shape[1]\n",
    "mu = numpy.mean(x_train, axis=0).reshape(1, d)\n",
    "sig = numpy.std(x_train, axis=0).reshape(1, d)\n",
    "\n",
    "# transform the training features\n",
    "x_train = (x_train - mu) / (sig + 1E-6)\n",
    "\n",
    "# transform the test features\n",
    "x_test = (x_test - mu) / (sig + 1E-6)\n",
    "\n",
    "print('test mean = ')\n",
    "print(numpy.mean(x_test, axis=0))\n",
    "\n",
    "print('test std = ')\n",
    "print(numpy.std(x_test, axis=0))"
   ]
  },
  {
   "cell_type": "markdown",
   "metadata": {},
   "source": [
    "## 1.4. Add a dimension of all ones"
   ]
  },
  {
   "cell_type": "code",
   "execution_count": 8,
   "metadata": {},
   "outputs": [
    {
     "name": "stdout",
     "output_type": "stream",
     "text": [
      "Shape of x_train: (640, 9)\n",
      "Shape of x_test: (128, 9)\n"
     ]
    }
   ],
   "source": [
    "n_train, d = x_train.shape\n",
    "x_train = numpy.concatenate((x_train, numpy.ones((n_train, 1))), axis=1)\n",
    "\n",
    "n_test, d = x_test.shape\n",
    "x_test = numpy.concatenate((x_test, numpy.ones((n_test, 1))), axis=1)\n",
    "\n",
    "print('Shape of x_train: ' + str(x_train.shape))\n",
    "print('Shape of x_test: ' + str(x_test.shape))"
   ]
  },
  {
   "cell_type": "markdown",
   "metadata": {},
   "source": []
  },
  {
   "cell_type": "markdown",
   "metadata": {},
   "source": [
    "# 2. Model Runninf\n",
    "\n",
    "- GD1\n",
    "- GD8\n",
    "- SGD1\n",
    "- SGD8"
   ]
  },
  {
   "cell_type": "markdown",
   "metadata": {},
   "source": [
    "## 2.1. Worker Node - GD"
   ]
  },
  {
   "cell_type": "code",
   "execution_count": 226,
   "metadata": {},
   "outputs": [],
   "source": [
    "class worker_gd:\n",
    "    def __init__(self, x, y):\n",
    "        self.x = x\n",
    "        self.y = y\n",
    "        self.s = x.shape[0] #number of samples\n",
    "        self.d = x.shape[1] #number of features\n",
    "        self.w = numpy.zeros((d,1))\n",
    "        self.objval = 0\n",
    "    \n",
    "    def set_param(self, w):\n",
    "        self.w = w\n",
    "    \n",
    "    def gradient_descent(self, q, alpha):\n",
    "        self.objval = 0\n",
    "        for i in range(q):\n",
    "            yx =  numpy.multiply(self.y, self.x)\n",
    "            yxw = numpy.dot(yx, self.w)\n",
    "            vec1 = numpy.exp(yxw)\n",
    "            vec2 = numpy.divide(yx, 1+vec1)\n",
    "            vec3 = -numpy.mean(vec2, axis=0).reshape(self.d, 1) # d-by-1 matrix\n",
    "            vec4 = numpy.exp(-yxw)\n",
    "            vec5 = numpy.log(1+vec4)\n",
    "            loss = numpy.sum(vec5)\n",
    "            self.objval += loss\n",
    "            g = vec3 + lam * (self.w)\n",
    "            self.w -= alpha*g\n",
    "            alpha *= 0.9\n",
    "        return self.objval/q\n",
    "        \n",
    "       \n",
    "    \n",
    "    def ascending(self,w):\n",
    "        p = w-self.w\n",
    "        return p\n",
    "    \n",
    "    "
   ]
  },
  {
   "cell_type": "code",
   "execution_count": 227,
   "metadata": {},
   "outputs": [],
   "source": [
    "class Server:\n",
    "    def __init__(self,m,n,d):\n",
    "        self.m = m\n",
    "        self.n = n\n",
    "        self.d = d\n",
    "        self.w = numpy.zeros((d,1))\n",
    "        self.p = numpy.zeros((d,1))\n",
    "        self.loss = 0\n",
    "        self.obj = 0\n",
    "        \n",
    "    def broadcast(self):\n",
    "        return self.w\n",
    "    \n",
    "    def aggregate(self, pt, losses):\n",
    "        self.p = numpy.zeros((self.d,1))\n",
    "        self.loss=0\n",
    "        for k in range(self.m):\n",
    "            self.p += pt[k]\n",
    "            self.loss += losses[k]\n",
    "        return self.p\n",
    "        \n",
    "    def objective(self, lam):\n",
    "        reg = lam/2*numpy.sum(self.w*self.w)\n",
    "        self.obj = self.loss/self.n + reg\n",
    "        return self.obj\n",
    "    \n",
    "    def gd(self, alpha):\n",
    "        self.p = self.p/self.m\n",
    "        self.w -= alpha*self.p\n",
    "        return self.w\n",
    "    \n",
    "        \n",
    "        "
   ]
  },
  {
   "cell_type": "code",
   "execution_count": 228,
   "metadata": {},
   "outputs": [],
   "source": [
    "import math\n",
    "\n",
    "def create_server_workers(m,x,y):\n",
    "    n,d = x.shape\n",
    "    s = math.floor(n/m)\n",
    "    server = Server(m,n,d)\n",
    "    workers = []\n",
    "    \n",
    "    for i in range(m):\n",
    "        indices = list(range(i*s, (i+1)*s))\n",
    "        worker = worker_gd(x[indices,:], y[indices,:])\n",
    "        workers.append(worker)\n",
    "    return server, workers"
   ]
  },
  {
   "cell_type": "code",
   "execution_count": 229,
   "metadata": {},
   "outputs": [],
   "source": [
    "m = 4\n",
    "server, workers = create_server_workers(m, x_train, y_train)"
   ]
  },
  {
   "cell_type": "code",
   "execution_count": 230,
   "metadata": {},
   "outputs": [],
   "source": [
    "lam = 1e-6\n",
    "alpha = 1e-1\n",
    "q = 1\n",
    "communications = 1000\n",
    "gd_1 = []\n",
    "w = server.broadcast()\n",
    "\n",
    "for i in range(communications):\n",
    "    for i in range(m):\n",
    "        workers[i].set_param(w)\n",
    "\n",
    "    pt = []\n",
    "    losses = []\n",
    "    for i in range(m):\n",
    "        l=workers[i].gradient_descent(q, alpha)\n",
    "        losses.append(l)\n",
    "        p = workers[i].ascending(w)\n",
    "        pt.append(p)\n",
    "        \n",
    "        \n",
    "    p = server.aggregate(pt, losses)\n",
    "    obj = server.objective(lam)\n",
    "    gd_1.append(obj)\n",
    "    \n",
    "    w = server.gd(alpha)"
   ]
  },
  {
   "cell_type": "code",
   "execution_count": 231,
   "metadata": {},
   "outputs": [],
   "source": [
    "m = 4\n",
    "server, workers = create_server_workers(m, x_train, y_train)"
   ]
  },
  {
   "cell_type": "code",
   "execution_count": 232,
   "metadata": {},
   "outputs": [],
   "source": [
    "lam = 1e-6\n",
    "alpha = 1e-1\n",
    "q = 8\n",
    "communications = 1000\n",
    "gd_8 = []\n",
    "w = server.broadcast()\n",
    "\n",
    "for i in range(communications):\n",
    "    for i in range(m):\n",
    "        workers[i].set_param(w)\n",
    "\n",
    "    pt = []\n",
    "    losses = []\n",
    "    for i in range(m):\n",
    "        l=workers[i].gradient_descent(q, alpha)\n",
    "        losses.append(l)\n",
    "        p = workers[i].ascending(w)\n",
    "        pt.append(p)\n",
    "        \n",
    "        \n",
    "    p = server.aggregate(pt, losses)\n",
    "    obj = server.objective(lam)\n",
    "    gd_8.append(obj)\n",
    "    \n",
    "    w = server.gd(alpha)"
   ]
  },
  {
   "cell_type": "code",
   "execution_count": 233,
   "metadata": {},
   "outputs": [
    {
     "data": {
      "image/png": "[encoded data removed]",
      "text/plain": [
       "<Figure size 432x288 with 1 Axes>"
      ]
     },
     "metadata": {
      "needs_background": "light"
     },
     "output_type": "display_data"
    }
   ],
   "source": [
    "import matplotlib.pyplot as plt\n",
    "fig = plt.figure(figsize=(6, 4))\n",
    "\n",
    "communications_gd1 = range(len(gd_1))\n",
    "communications_gd8 = range(len(gd_8))\n",
    "\n",
    "\n",
    "line0, = plt.plot(communications_gd1, gd_1, '--b', LineWidth=4)\n",
    "line1, = plt.plot(communications_gd8, gd_8, '-r', LineWidth=4)\n",
    "\n",
    "\n",
    "plt.xlabel('Communications', FontSize=20)\n",
    "plt.ylabel('Objective Value', FontSize=20)\n",
    "plt.xticks(FontSize=16)\n",
    "plt.yticks(FontSize=16)\n",
    "plt.legend([line0, line1], ['GD1', 'GD8'], fontsize=20)\n",
    "plt.tight_layout()\n",
    "plt.show()"
   ]
  },
  {
   "cell_type": "markdown",
   "metadata": {},
   "source": [
    "## 2.2. Worker Node - SGD"
   ]
  },
  {
   "cell_type": "code",
   "execution_count": 217,
   "metadata": {},
   "outputs": [],
   "source": [
    "class worker_sgd:\n",
    "    def __init__(self, x, y):\n",
    "        self.x = x\n",
    "        self.y = y\n",
    "        self.s = x.shape[0] #number of samples\n",
    "        self.d = x.shape[1] #number of features\n",
    "        self.w = numpy.zeros((d,1))\n",
    "        self.objval = 0\n",
    "    \n",
    "    def set_param(self, w):\n",
    "        self.w = w\n",
    "    \n",
    "    def stochastic_gradient_descent(self, q, alpha):\n",
    "        self.objval = 0\n",
    "        for i in range(q):\n",
    "            rand_indices = numpy.random.permutation(self.s)\n",
    "            x_rand = self.x[rand_indices, :]\n",
    "            y_rand = self.y[rand_indices, :]\n",
    "            for k in range(self.s):\n",
    "                xi = x_rand[k,:]\n",
    "                yi = float(y_rand[k, :])\n",
    "                yx = yi * xi # 1-by-d matrix\n",
    "                yxw = float(numpy.dot(yx, self.w)) # scalar\n",
    "                loss = numpy.log(1 + numpy.exp(-yxw)) # scalar\n",
    "                self.objval += loss\n",
    "                g_loss = -yx.T / (1 + numpy.exp(yxw)) # d-by-1 matrix\n",
    "                g = g_loss + lam * self.w # d-by-1 matrix\n",
    "                self.w -= alpha*g\n",
    "                alpha *= 0.9\n",
    "            \n",
    "        return self.objval\n",
    "    \n",
    "    def ascending(self,w):\n",
    "        p = w-self.w\n",
    "        return p\n",
    " "
   ]
  },
  {
   "cell_type": "code",
   "execution_count": 218,
   "metadata": {},
   "outputs": [],
   "source": [
    "class Server_sgd:\n",
    "    def __init__(self,m,n,d):\n",
    "        self.m = m\n",
    "        self.n = n\n",
    "        self.d = d\n",
    "        self.w = numpy.zeros((d,1))\n",
    "        self.p = numpy.zeros((d,1))\n",
    "        self.loss = 0\n",
    "        self.obj = 0\n",
    "        \n",
    "    def broadcast(self):\n",
    "        return self.w\n",
    "    \n",
    "    def aggregate(self, pt, losses):\n",
    "        self.p = numpy.zeros((self.d,1))\n",
    "        self.loss=0\n",
    "        for k in range(self.m):\n",
    "            self.p += pt[k]\n",
    "            self.loss += losses[k]\n",
    "        return self.p\n",
    "        \n",
    "    def objective(self, lam,q):\n",
    "        reg = lam/2*numpy.sum(self.w*self.w)\n",
    "        self.obj = self.loss/(q*self.n) + reg\n",
    "        return self.obj\n",
    "    \n",
    "    def gd(self, alpha):\n",
    "        self.p = self.p/self.m\n",
    "        self.w -= alpha*self.p\n",
    "        return self.w"
   ]
  },
  {
   "cell_type": "code",
   "execution_count": 219,
   "metadata": {},
   "outputs": [],
   "source": [
    "def create_server_workers_sgd(m,x,y):\n",
    "    n,d = x.shape\n",
    "    s = math.floor(n/m)\n",
    "    server = Server_sgd(m,n,d)\n",
    "    workers = []\n",
    "    \n",
    "    for i in range(m):\n",
    "        indices = list(range(i*s, (i+1)*s))\n",
    "        worker = worker_sgd(x[indices,:], y[indices,:])\n",
    "        workers.append(worker)\n",
    "    return server, workers"
   ]
  },
  {
   "cell_type": "code",
   "execution_count": 220,
   "metadata": {},
   "outputs": [],
   "source": [
    "m = 4\n",
    "server, workers = create_server_workers_sgd(m, x_train, y_train)"
   ]
  },
  {
   "cell_type": "code",
   "execution_count": 221,
   "metadata": {},
   "outputs": [],
   "source": [
    "lam = 1e-6\n",
    "alpha = 1e-1\n",
    "q = 1\n",
    "communications = 1000\n",
    "sgd_1 = []\n",
    "w = server.broadcast()\n",
    "\n",
    "for i in range(communications):\n",
    "    for i in range(m):\n",
    "        workers[i].set_param(w)\n",
    "\n",
    "    pt = []\n",
    "    losses = []\n",
    "    for i in range(m):\n",
    "        l = workers[i].stochastic_gradient_descent(q, alpha)\n",
    "        losses.append(l)\n",
    "        p = workers[i].ascending(w)\n",
    "        pt.append(p)\n",
    "        \n",
    "    p = server.aggregate(pt, losses)\n",
    "    obj = server.objective(lam,q)\n",
    "    sgd_1.append(obj)\n",
    "    w = server.gd(alpha)\n",
    "    "
   ]
  },
  {
   "cell_type": "code",
   "execution_count": 223,
   "metadata": {},
   "outputs": [],
   "source": [
    "m = 4\n",
    "server, workers = create_server_workers_sgd(m, x_train, y_train)"
   ]
  },
  {
   "cell_type": "code",
   "execution_count": 224,
   "metadata": {},
   "outputs": [],
   "source": [
    "lam = 1e-6\n",
    "alpha = 1e-1\n",
    "q = 8\n",
    "communications = 1000\n",
    "sgd_8 = []\n",
    "w = server.broadcast()\n",
    "\n",
    "for i in range(communications):\n",
    "    for i in range(m):\n",
    "        workers[i].set_param(w)\n",
    "\n",
    "    pt = []\n",
    "    losses = []\n",
    "    for i in range(m):\n",
    "        l = workers[i].stochastic_gradient_descent(q, alpha)\n",
    "        losses.append(l)\n",
    "        p = workers[i].ascending(w)\n",
    "        pt.append(p)\n",
    "        \n",
    "    p = server.aggregate(pt, losses)\n",
    "    obj = server.objective(lam,q)\n",
    "    sgd_8.append(obj)\n",
    "    \n",
    "    w = server.gd(alpha)"
   ]
  },
  {
   "cell_type": "code",
   "execution_count": 234,
   "metadata": {},
   "outputs": [
    {
     "data": {
      "image/png": "[encoded data removed]",
      "text/plain": [
       "<Figure size 432x288 with 1 Axes>"
      ]
     },
     "metadata": {
      "needs_background": "light"
     },
     "output_type": "display_data"
    }
   ],
   "source": [
    "import matplotlib.pyplot as plt\n",
    "fig = plt.figure(figsize=(6, 4))\n",
    "\n",
    "communications_gd1 = range(len(gd_1))\n",
    "communications_gd8 = range(len(gd_8))\n",
    "communications_sgd1 = range(len(sgd_1))\n",
    "communications_sgd8 = range(len(sgd_8))\n",
    "\n",
    "\n",
    "line0, = plt.plot(communications_gd1, gd_1, '-b', LineWidth=3)\n",
    "line1, = plt.plot(communications_gd8, gd_8, '--r', LineWidth=3)\n",
    "line2, = plt.plot(communications_sgd1, sgd_1, '-g', LineWidth=1)\n",
    "line3, = plt.plot(communications_sgd8, sgd_8, '--r', LineWidth=1)\n",
    "\n",
    "\n",
    "plt.xlabel('Communications', FontSize=20)\n",
    "plt.ylabel('Objective Value', FontSize=20)\n",
    "plt.xticks(FontSize=16)\n",
    "plt.yticks(FontSize=16)\n",
    "plt.legend([line0, line1,line2, line3], ['GD1', 'GD8', 'SGD1', 'SGD8'], fontsize=20)\n",
    "plt.tight_layout()\n",
    "plt.show()"
   ]
  }
 ],
 "metadata": {
  "kernelspec": {
   "display_name": "Python 3",
   "language": "python",
   "name": "python3"
  },
  "language_info": {
   "codemirror_mode": {
    "name": "ipython",
    "version": 3
   },
   "file_extension": ".py",
   "mimetype": "text/x-python",
   "name": "python",
   "nbconvert_exporter": "python",
   "pygments_lexer": "ipython3",
   "version": "3.6.9"
  }
 },
 "nbformat": 4,
 "nbformat_minor": 2
}
